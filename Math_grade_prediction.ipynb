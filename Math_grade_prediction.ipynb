{
  "cells": [
    {
      "cell_type": "markdown",
      "metadata": {
        "colab_type": "text",
        "id": "view-in-github"
      },
      "source": [
        "<a href=\"https://colab.research.google.com/github/Rubic31/Linear_regression/blob/main/Math_grade_prediction.ipynb\" target=\"_parent\"><img src=\"https://colab.research.google.com/assets/colab-badge.svg\" alt=\"Open In Colab\"/></a>"
      ]
    },
    {
      "cell_type": "code",
      "execution_count": null,
      "metadata": {
        "id": "6-4vFKkBT88Q"
      },
      "outputs": [
        {
          "ename": "",
          "evalue": "",
          "output_type": "error",
          "traceback": [
            "\u001b[1;31mRunning cells with '/bin/python3' requires the ipykernel package.\n",
            "\u001b[1;31mRun the following command to install 'ipykernel' into the Python environment. \n",
            "\u001b[1;31mCommand: '/bin/python3 -m pip install ipykernel -U --user --force-reinstall'"
          ]
        }
      ],
      "source": []
    },
    {
      "cell_type": "code",
      "execution_count": 4,
      "metadata": {
        "id": "-tycolZ9tYL-"
      },
      "outputs": [],
      "source": [
        "#@title Import relevant modules\n",
        "import pandas as pd\n",
        "import tensorflow as tf\n",
        "import numpy as np\n",
        "from matplotlib import pyplot as plt\n",
        "\n",
        "# The following lines adjust the granularity of reporting.\n",
        "pd.options.display.max_rows = 10\n",
        "pd.options.display.float_format = \"{:.1f}\".format"
      ]
    },
    {
      "cell_type": "markdown",
      "metadata": {
        "id": "UTzcZ05sUseb"
      },
      "source": [
        "# Attributes for both student-mat.csv (Math course) and student-por.csv (Portuguese language course) datasets:\n",
        "1 school - student's school (binary: \"GP\" - Gabriel Pereira or \"MS\" - Mousinho da Silveira)\n",
        "\n",
        "2 sex - student's sex (binary: \"F\" - female or \"M\" - male)\n",
        "\n",
        "3 age - student's age (numeric: from 15 to 22)\n",
        "\n",
        "4 address - student's home address type (binary: \"U\" - urban or \"R\" - rural)\n",
        "\n",
        "5 famsize - family size (binary: \"LE3\" - less or equal to 3 or \"GT3\" - greater\n",
        "than 3)\n",
        "\n",
        "6 Pstatus - parent's cohabitation status (binary: \"T\" - living together or \"A\" - apart)\n",
        "\n",
        "7 Medu - mother's education (numeric: 0 - none,  1 - primary education (4th\n",
        "grade), 2 – 5th to 9th grade, 3 – secondary education or 4 – higher education)\n",
        "\n",
        "8 Fedu - father's education (numeric: 0 - none,  1 - primary education (4th grade), 2 – 5th to 9th grade, 3 – secondary education or 4 – higher education)\n",
        "\n",
        "9 Mjob - mother's job (nominal: \"teacher\", \"health\" care related, civil \"services\" (e.g. administrative or police), \"at_home\" or \"other\")\n",
        "\n",
        "10 Fjob - father's job (nominal: \"teacher\", \"health\" care related, civil \"services\" (e.g. administrative or police), \"at_home\" or \"other\")\n",
        "\n",
        "11 reason - reason to choose this school (nominal: close to \"home\", school \"reputation\", \"course\" preference or \"other\")\n",
        "\n",
        "12 guardian - student's guardian (nominal: \"mother\", \"father\" or \"other\")\n",
        "\n",
        "13 traveltime - home to school travel time (numeric: 1 - <15 min., 2 - 15 to 30 min., 3 - 30 min. to 1 hour, or 4 - >1 hour)\n",
        "\n",
        "14 studytime - weekly study time (numeric: 1 - <2 hours, 2 - 2 to 5 hours, 3 - 5 to 10 hours, or 4 - >10 hours)\n",
        "\n",
        "15 failures - number of past class failures (numeric: n if 1<=n<3, else 4)\n",
        "\n",
        "16 schoolsup - extra educational support (binary: yes or no)\n",
        "\n",
        "17 famsup - family educational support (binary: yes or no)\n",
        "\n",
        "18 paid - extra paid classes within the course subject (Math or Portuguese) (binary: yes or no)\n",
        "\n",
        "19 activities - extra-curricular activities (binary: yes or no)\n",
        "\n",
        "20 nursery - attended nursery school (binary: yes or no)\n",
        "\n",
        "21 higher - wants to take higher education (binary: yes or no)\n",
        "\n",
        "22 internet - Internet access at home (binary: yes or no)\n",
        "\n",
        "23 romantic - with a romantic relationship (binary: yes or no)\n",
        "\n",
        "24 famrel - quality of family relationships (numeric: from 1 - very bad to 5 -\n",
        "excellent)\n",
        "\n",
        "25 freetime - free time after school (numeric: from 1 - very low to 5 - very\n",
        "high)\n",
        "\n",
        "26 goout - going out with friends (numeric: from 1 - very low to 5 - very high)\n",
        "\n",
        "27 Dalc - workday alcohol consumption (numeric: from 1 - very low to 5 - very\n",
        "high)\n",
        "\n",
        "28 Walc - weekend alcohol consumption (numeric: from 1 - very low to 5 - very high)\n",
        "\n",
        "29 health - current health status (numeric: from 1 - very bad to 5 - very good)\n",
        "\n",
        "30 absences - number of school absences (numeric: from 0 to 93)\n",
        "\n",
        "# these grades are related with the course subject, Math or Portuguese:\n",
        "\n",
        "31 G1 - first period grade (numeric: from 0 to 20)\n",
        "\n",
        "31 G2 - second period grade (numeric: from 0 to 20)\n",
        "\n",
        "32 G3 - final grade (numeric: from 0 to 20, output target)\n",
        "\n",
        "Additional note: there are several (382) students that belong to both datasets .\n",
        "These students can be identified by searching for identical attributes\n",
        "that characterize each student, as shown in the annexed R file."
      ]
    },
    {
      "cell_type": "code",
      "execution_count": 6,
      "metadata": {
        "colab": {
          "base_uri": "https://localhost:8080/",
          "height": 235
        },
        "id": "8krzZahCTrCN",
        "outputId": "81d72f48-a1c3-40fc-da38-b77b6ea97d80"
      },
      "outputs": [
        {
          "data": {
            "text/html": [
              "<div>\n",
              "<style scoped>\n",
              "    .dataframe tbody tr th:only-of-type {\n",
              "        vertical-align: middle;\n",
              "    }\n",
              "\n",
              "    .dataframe tbody tr th {\n",
              "        vertical-align: top;\n",
              "    }\n",
              "\n",
              "    .dataframe thead th {\n",
              "        text-align: right;\n",
              "    }\n",
              "</style>\n",
              "<table border=\"1\" class=\"dataframe\">\n",
              "  <thead>\n",
              "    <tr style=\"text-align: right;\">\n",
              "      <th></th>\n",
              "      <th>school</th>\n",
              "      <th>sex</th>\n",
              "      <th>age</th>\n",
              "      <th>address</th>\n",
              "      <th>famsize</th>\n",
              "      <th>Pstatus</th>\n",
              "      <th>Medu</th>\n",
              "      <th>Fedu</th>\n",
              "      <th>Mjob</th>\n",
              "      <th>Fjob</th>\n",
              "      <th>...</th>\n",
              "      <th>famrel</th>\n",
              "      <th>freetime</th>\n",
              "      <th>goout</th>\n",
              "      <th>Dalc</th>\n",
              "      <th>Walc</th>\n",
              "      <th>health</th>\n",
              "      <th>absences</th>\n",
              "      <th>G1</th>\n",
              "      <th>G2</th>\n",
              "      <th>G3</th>\n",
              "    </tr>\n",
              "  </thead>\n",
              "  <tbody>\n",
              "    <tr>\n",
              "      <th>0</th>\n",
              "      <td>GP</td>\n",
              "      <td>F</td>\n",
              "      <td>18</td>\n",
              "      <td>U</td>\n",
              "      <td>GT3</td>\n",
              "      <td>A</td>\n",
              "      <td>4</td>\n",
              "      <td>4</td>\n",
              "      <td>at_home</td>\n",
              "      <td>teacher</td>\n",
              "      <td>...</td>\n",
              "      <td>4</td>\n",
              "      <td>3</td>\n",
              "      <td>4</td>\n",
              "      <td>1</td>\n",
              "      <td>1</td>\n",
              "      <td>3</td>\n",
              "      <td>6</td>\n",
              "      <td>5</td>\n",
              "      <td>6</td>\n",
              "      <td>6</td>\n",
              "    </tr>\n",
              "    <tr>\n",
              "      <th>1</th>\n",
              "      <td>GP</td>\n",
              "      <td>F</td>\n",
              "      <td>17</td>\n",
              "      <td>U</td>\n",
              "      <td>GT3</td>\n",
              "      <td>T</td>\n",
              "      <td>1</td>\n",
              "      <td>1</td>\n",
              "      <td>at_home</td>\n",
              "      <td>other</td>\n",
              "      <td>...</td>\n",
              "      <td>5</td>\n",
              "      <td>3</td>\n",
              "      <td>3</td>\n",
              "      <td>1</td>\n",
              "      <td>1</td>\n",
              "      <td>3</td>\n",
              "      <td>4</td>\n",
              "      <td>5</td>\n",
              "      <td>5</td>\n",
              "      <td>6</td>\n",
              "    </tr>\n",
              "    <tr>\n",
              "      <th>2</th>\n",
              "      <td>GP</td>\n",
              "      <td>F</td>\n",
              "      <td>15</td>\n",
              "      <td>U</td>\n",
              "      <td>LE3</td>\n",
              "      <td>T</td>\n",
              "      <td>1</td>\n",
              "      <td>1</td>\n",
              "      <td>at_home</td>\n",
              "      <td>other</td>\n",
              "      <td>...</td>\n",
              "      <td>4</td>\n",
              "      <td>3</td>\n",
              "      <td>2</td>\n",
              "      <td>2</td>\n",
              "      <td>3</td>\n",
              "      <td>3</td>\n",
              "      <td>10</td>\n",
              "      <td>7</td>\n",
              "      <td>8</td>\n",
              "      <td>10</td>\n",
              "    </tr>\n",
              "    <tr>\n",
              "      <th>3</th>\n",
              "      <td>GP</td>\n",
              "      <td>F</td>\n",
              "      <td>15</td>\n",
              "      <td>U</td>\n",
              "      <td>GT3</td>\n",
              "      <td>T</td>\n",
              "      <td>4</td>\n",
              "      <td>2</td>\n",
              "      <td>health</td>\n",
              "      <td>services</td>\n",
              "      <td>...</td>\n",
              "      <td>3</td>\n",
              "      <td>2</td>\n",
              "      <td>2</td>\n",
              "      <td>1</td>\n",
              "      <td>1</td>\n",
              "      <td>5</td>\n",
              "      <td>2</td>\n",
              "      <td>15</td>\n",
              "      <td>14</td>\n",
              "      <td>15</td>\n",
              "    </tr>\n",
              "    <tr>\n",
              "      <th>4</th>\n",
              "      <td>GP</td>\n",
              "      <td>F</td>\n",
              "      <td>16</td>\n",
              "      <td>U</td>\n",
              "      <td>GT3</td>\n",
              "      <td>T</td>\n",
              "      <td>3</td>\n",
              "      <td>3</td>\n",
              "      <td>other</td>\n",
              "      <td>other</td>\n",
              "      <td>...</td>\n",
              "      <td>4</td>\n",
              "      <td>3</td>\n",
              "      <td>2</td>\n",
              "      <td>1</td>\n",
              "      <td>2</td>\n",
              "      <td>5</td>\n",
              "      <td>4</td>\n",
              "      <td>6</td>\n",
              "      <td>10</td>\n",
              "      <td>10</td>\n",
              "    </tr>\n",
              "  </tbody>\n",
              "</table>\n",
              "<p>5 rows × 33 columns</p>\n",
              "</div>"
            ],
            "text/plain": [
              "  school sex  age address famsize Pstatus  Medu  Fedu     Mjob      Fjob  ...  \\\n",
              "0     GP   F   18       U     GT3       A     4     4  at_home   teacher  ...   \n",
              "1     GP   F   17       U     GT3       T     1     1  at_home     other  ...   \n",
              "2     GP   F   15       U     LE3       T     1     1  at_home     other  ...   \n",
              "3     GP   F   15       U     GT3       T     4     2   health  services  ...   \n",
              "4     GP   F   16       U     GT3       T     3     3    other     other  ...   \n",
              "\n",
              "  famrel freetime  goout  Dalc  Walc health absences  G1  G2  G3  \n",
              "0      4        3      4     1     1      3        6   5   6   6  \n",
              "1      5        3      3     1     1      3        4   5   5   6  \n",
              "2      4        3      2     2     3      3       10   7   8  10  \n",
              "3      3        2      2     1     1      5        2  15  14  15  \n",
              "4      4        3      2     1     2      5        4   6  10  10  \n",
              "\n",
              "[5 rows x 33 columns]"
            ]
          },
          "execution_count": 6,
          "metadata": {},
          "output_type": "execute_result"
        }
      ],
      "source": [
        "# Import the dataset.\n",
        "df = pd.read_csv(filepath_or_buffer=\"data/student-mat.csv\", sep=\";\")\n",
        "\n",
        "# Print the first rows of the pandas DataFrame.\n",
        "df.head()"
      ]
    },
    {
      "cell_type": "code",
      "execution_count": 7,
      "metadata": {
        "colab": {
          "base_uri": "https://localhost:8080/",
          "height": 300
        },
        "id": "x9L3GOISUZ3W",
        "outputId": "f23a9547-f0e4-434c-d6af-96a497257691"
      },
      "outputs": [
        {
          "data": {
            "text/html": [
              "<div>\n",
              "<style scoped>\n",
              "    .dataframe tbody tr th:only-of-type {\n",
              "        vertical-align: middle;\n",
              "    }\n",
              "\n",
              "    .dataframe tbody tr th {\n",
              "        vertical-align: top;\n",
              "    }\n",
              "\n",
              "    .dataframe thead th {\n",
              "        text-align: right;\n",
              "    }\n",
              "</style>\n",
              "<table border=\"1\" class=\"dataframe\">\n",
              "  <thead>\n",
              "    <tr style=\"text-align: right;\">\n",
              "      <th></th>\n",
              "      <th>age</th>\n",
              "      <th>Medu</th>\n",
              "      <th>Fedu</th>\n",
              "      <th>traveltime</th>\n",
              "      <th>studytime</th>\n",
              "      <th>failures</th>\n",
              "      <th>famrel</th>\n",
              "      <th>freetime</th>\n",
              "      <th>goout</th>\n",
              "      <th>Dalc</th>\n",
              "      <th>Walc</th>\n",
              "      <th>health</th>\n",
              "      <th>absences</th>\n",
              "      <th>G1</th>\n",
              "      <th>G2</th>\n",
              "      <th>G3</th>\n",
              "    </tr>\n",
              "  </thead>\n",
              "  <tbody>\n",
              "    <tr>\n",
              "      <th>count</th>\n",
              "      <td>395.0</td>\n",
              "      <td>395.0</td>\n",
              "      <td>395.0</td>\n",
              "      <td>395.0</td>\n",
              "      <td>395.0</td>\n",
              "      <td>395.0</td>\n",
              "      <td>395.0</td>\n",
              "      <td>395.0</td>\n",
              "      <td>395.0</td>\n",
              "      <td>395.0</td>\n",
              "      <td>395.0</td>\n",
              "      <td>395.0</td>\n",
              "      <td>395.0</td>\n",
              "      <td>395.0</td>\n",
              "      <td>395.0</td>\n",
              "      <td>395.0</td>\n",
              "    </tr>\n",
              "    <tr>\n",
              "      <th>mean</th>\n",
              "      <td>16.7</td>\n",
              "      <td>2.7</td>\n",
              "      <td>2.5</td>\n",
              "      <td>1.4</td>\n",
              "      <td>2.0</td>\n",
              "      <td>0.3</td>\n",
              "      <td>3.9</td>\n",
              "      <td>3.2</td>\n",
              "      <td>3.1</td>\n",
              "      <td>1.5</td>\n",
              "      <td>2.3</td>\n",
              "      <td>3.6</td>\n",
              "      <td>5.7</td>\n",
              "      <td>10.9</td>\n",
              "      <td>10.7</td>\n",
              "      <td>10.4</td>\n",
              "    </tr>\n",
              "    <tr>\n",
              "      <th>std</th>\n",
              "      <td>1.3</td>\n",
              "      <td>1.1</td>\n",
              "      <td>1.1</td>\n",
              "      <td>0.7</td>\n",
              "      <td>0.8</td>\n",
              "      <td>0.7</td>\n",
              "      <td>0.9</td>\n",
              "      <td>1.0</td>\n",
              "      <td>1.1</td>\n",
              "      <td>0.9</td>\n",
              "      <td>1.3</td>\n",
              "      <td>1.4</td>\n",
              "      <td>8.0</td>\n",
              "      <td>3.3</td>\n",
              "      <td>3.8</td>\n",
              "      <td>4.6</td>\n",
              "    </tr>\n",
              "    <tr>\n",
              "      <th>min</th>\n",
              "      <td>15.0</td>\n",
              "      <td>0.0</td>\n",
              "      <td>0.0</td>\n",
              "      <td>1.0</td>\n",
              "      <td>1.0</td>\n",
              "      <td>0.0</td>\n",
              "      <td>1.0</td>\n",
              "      <td>1.0</td>\n",
              "      <td>1.0</td>\n",
              "      <td>1.0</td>\n",
              "      <td>1.0</td>\n",
              "      <td>1.0</td>\n",
              "      <td>0.0</td>\n",
              "      <td>3.0</td>\n",
              "      <td>0.0</td>\n",
              "      <td>0.0</td>\n",
              "    </tr>\n",
              "    <tr>\n",
              "      <th>25%</th>\n",
              "      <td>16.0</td>\n",
              "      <td>2.0</td>\n",
              "      <td>2.0</td>\n",
              "      <td>1.0</td>\n",
              "      <td>1.0</td>\n",
              "      <td>0.0</td>\n",
              "      <td>4.0</td>\n",
              "      <td>3.0</td>\n",
              "      <td>2.0</td>\n",
              "      <td>1.0</td>\n",
              "      <td>1.0</td>\n",
              "      <td>3.0</td>\n",
              "      <td>0.0</td>\n",
              "      <td>8.0</td>\n",
              "      <td>9.0</td>\n",
              "      <td>8.0</td>\n",
              "    </tr>\n",
              "    <tr>\n",
              "      <th>50%</th>\n",
              "      <td>17.0</td>\n",
              "      <td>3.0</td>\n",
              "      <td>2.0</td>\n",
              "      <td>1.0</td>\n",
              "      <td>2.0</td>\n",
              "      <td>0.0</td>\n",
              "      <td>4.0</td>\n",
              "      <td>3.0</td>\n",
              "      <td>3.0</td>\n",
              "      <td>1.0</td>\n",
              "      <td>2.0</td>\n",
              "      <td>4.0</td>\n",
              "      <td>4.0</td>\n",
              "      <td>11.0</td>\n",
              "      <td>11.0</td>\n",
              "      <td>11.0</td>\n",
              "    </tr>\n",
              "    <tr>\n",
              "      <th>75%</th>\n",
              "      <td>18.0</td>\n",
              "      <td>4.0</td>\n",
              "      <td>3.0</td>\n",
              "      <td>2.0</td>\n",
              "      <td>2.0</td>\n",
              "      <td>0.0</td>\n",
              "      <td>5.0</td>\n",
              "      <td>4.0</td>\n",
              "      <td>4.0</td>\n",
              "      <td>2.0</td>\n",
              "      <td>3.0</td>\n",
              "      <td>5.0</td>\n",
              "      <td>8.0</td>\n",
              "      <td>13.0</td>\n",
              "      <td>13.0</td>\n",
              "      <td>14.0</td>\n",
              "    </tr>\n",
              "    <tr>\n",
              "      <th>max</th>\n",
              "      <td>22.0</td>\n",
              "      <td>4.0</td>\n",
              "      <td>4.0</td>\n",
              "      <td>4.0</td>\n",
              "      <td>4.0</td>\n",
              "      <td>3.0</td>\n",
              "      <td>5.0</td>\n",
              "      <td>5.0</td>\n",
              "      <td>5.0</td>\n",
              "      <td>5.0</td>\n",
              "      <td>5.0</td>\n",
              "      <td>5.0</td>\n",
              "      <td>75.0</td>\n",
              "      <td>19.0</td>\n",
              "      <td>19.0</td>\n",
              "      <td>20.0</td>\n",
              "    </tr>\n",
              "  </tbody>\n",
              "</table>\n",
              "</div>"
            ],
            "text/plain": [
              "        age  Medu  Fedu  traveltime  studytime  failures  famrel  freetime  \\\n",
              "count 395.0 395.0 395.0       395.0      395.0     395.0   395.0     395.0   \n",
              "mean   16.7   2.7   2.5         1.4        2.0       0.3     3.9       3.2   \n",
              "std     1.3   1.1   1.1         0.7        0.8       0.7     0.9       1.0   \n",
              "min    15.0   0.0   0.0         1.0        1.0       0.0     1.0       1.0   \n",
              "25%    16.0   2.0   2.0         1.0        1.0       0.0     4.0       3.0   \n",
              "50%    17.0   3.0   2.0         1.0        2.0       0.0     4.0       3.0   \n",
              "75%    18.0   4.0   3.0         2.0        2.0       0.0     5.0       4.0   \n",
              "max    22.0   4.0   4.0         4.0        4.0       3.0     5.0       5.0   \n",
              "\n",
              "       goout  Dalc  Walc  health  absences    G1    G2    G3  \n",
              "count  395.0 395.0 395.0   395.0     395.0 395.0 395.0 395.0  \n",
              "mean     3.1   1.5   2.3     3.6       5.7  10.9  10.7  10.4  \n",
              "std      1.1   0.9   1.3     1.4       8.0   3.3   3.8   4.6  \n",
              "min      1.0   1.0   1.0     1.0       0.0   3.0   0.0   0.0  \n",
              "25%      2.0   1.0   1.0     3.0       0.0   8.0   9.0   8.0  \n",
              "50%      3.0   1.0   2.0     4.0       4.0  11.0  11.0  11.0  \n",
              "75%      4.0   2.0   3.0     5.0       8.0  13.0  13.0  14.0  \n",
              "max      5.0   5.0   5.0     5.0      75.0  19.0  19.0  20.0  "
            ]
          },
          "execution_count": 7,
          "metadata": {},
          "output_type": "execute_result"
        }
      ],
      "source": [
        "df.describe()"
      ]
    },
    {
      "cell_type": "code",
      "execution_count": 8,
      "metadata": {
        "colab": {
          "base_uri": "https://localhost:8080/"
        },
        "id": "tii8rHm617w_",
        "outputId": "47d9e367-4934-4731-e01a-321bc132de69"
      },
      "outputs": [
        {
          "data": {
            "text/plain": [
              "school      0\n",
              "sex         0\n",
              "age         0\n",
              "address     0\n",
              "famsize     0\n",
              "           ..\n",
              "health      0\n",
              "absences    0\n",
              "G1          0\n",
              "G2          0\n",
              "G3          0\n",
              "Length: 33, dtype: int64"
            ]
          },
          "execution_count": 8,
          "metadata": {},
          "output_type": "execute_result"
        }
      ],
      "source": [
        "df.isna().sum()"
      ]
    },
    {
      "cell_type": "code",
      "execution_count": 9,
      "metadata": {
        "colab": {
          "base_uri": "https://localhost:8080/"
        },
        "id": "9aXs1ijJ5gor",
        "outputId": "053ddc0f-ee90-4de5-88ea-3786687b8772"
      },
      "outputs": [
        {
          "name": "stdout",
          "output_type": "stream",
          "text": [
            "33\n",
            "5\n",
            "27\n"
          ]
        }
      ],
      "source": [
        "feature_names = ['age',\t'Medu',\t'Fedu',\t'traveltime',\t'studytime',\t'failures',\t'famrel',\t'freetime',\t'goout',\t'Dalc',\t'Walc',\t'health',\t'absences',\t'G1',\t'G2',\n",
        "                 'G3', 'school', 'sex', 'address', 'famsize', 'Pstatus', 'Mjob', 'Fjob', 'reason', 'guardian', 'schoolsup', 'famsup', 'paid', 'activities',\n",
        "                 'nursery', 'higher', 'internet', 'romantic']\n",
        "print(len(feature_names))\n",
        "LABEL = 'G3'\n",
        "numeric_feature_names = ['age', 'failures', 'absences', 'G1', 'G2']\n",
        "categorical_feature_names = list(set(feature_names) - set(numeric_feature_names) - set([LABEL]))\n",
        "print(len(numeric_feature_names))\n",
        "print(len(categorical_feature_names))"
      ]
    },
    {
      "cell_type": "code",
      "execution_count": 10,
      "metadata": {
        "colab": {
          "base_uri": "https://localhost:8080/",
          "height": 423
        },
        "id": "ohpAUQRS8ACA",
        "outputId": "fa787968-59ea-44b1-c300-49ee9d6ea17a"
      },
      "outputs": [
        {
          "data": {
            "text/html": [
              "<div>\n",
              "<style scoped>\n",
              "    .dataframe tbody tr th:only-of-type {\n",
              "        vertical-align: middle;\n",
              "    }\n",
              "\n",
              "    .dataframe tbody tr th {\n",
              "        vertical-align: top;\n",
              "    }\n",
              "\n",
              "    .dataframe thead th {\n",
              "        text-align: right;\n",
              "    }\n",
              "</style>\n",
              "<table border=\"1\" class=\"dataframe\">\n",
              "  <thead>\n",
              "    <tr style=\"text-align: right;\">\n",
              "      <th></th>\n",
              "      <th>age</th>\n",
              "      <th>failures</th>\n",
              "      <th>absences</th>\n",
              "      <th>G1</th>\n",
              "      <th>G2</th>\n",
              "    </tr>\n",
              "  </thead>\n",
              "  <tbody>\n",
              "    <tr>\n",
              "      <th>0</th>\n",
              "      <td>18</td>\n",
              "      <td>0</td>\n",
              "      <td>6</td>\n",
              "      <td>5</td>\n",
              "      <td>6</td>\n",
              "    </tr>\n",
              "    <tr>\n",
              "      <th>1</th>\n",
              "      <td>17</td>\n",
              "      <td>0</td>\n",
              "      <td>4</td>\n",
              "      <td>5</td>\n",
              "      <td>5</td>\n",
              "    </tr>\n",
              "    <tr>\n",
              "      <th>2</th>\n",
              "      <td>15</td>\n",
              "      <td>3</td>\n",
              "      <td>10</td>\n",
              "      <td>7</td>\n",
              "      <td>8</td>\n",
              "    </tr>\n",
              "    <tr>\n",
              "      <th>3</th>\n",
              "      <td>15</td>\n",
              "      <td>0</td>\n",
              "      <td>2</td>\n",
              "      <td>15</td>\n",
              "      <td>14</td>\n",
              "    </tr>\n",
              "    <tr>\n",
              "      <th>4</th>\n",
              "      <td>16</td>\n",
              "      <td>0</td>\n",
              "      <td>4</td>\n",
              "      <td>6</td>\n",
              "      <td>10</td>\n",
              "    </tr>\n",
              "    <tr>\n",
              "      <th>...</th>\n",
              "      <td>...</td>\n",
              "      <td>...</td>\n",
              "      <td>...</td>\n",
              "      <td>...</td>\n",
              "      <td>...</td>\n",
              "    </tr>\n",
              "    <tr>\n",
              "      <th>390</th>\n",
              "      <td>20</td>\n",
              "      <td>2</td>\n",
              "      <td>11</td>\n",
              "      <td>9</td>\n",
              "      <td>9</td>\n",
              "    </tr>\n",
              "    <tr>\n",
              "      <th>391</th>\n",
              "      <td>17</td>\n",
              "      <td>0</td>\n",
              "      <td>3</td>\n",
              "      <td>14</td>\n",
              "      <td>16</td>\n",
              "    </tr>\n",
              "    <tr>\n",
              "      <th>392</th>\n",
              "      <td>21</td>\n",
              "      <td>3</td>\n",
              "      <td>3</td>\n",
              "      <td>10</td>\n",
              "      <td>8</td>\n",
              "    </tr>\n",
              "    <tr>\n",
              "      <th>393</th>\n",
              "      <td>18</td>\n",
              "      <td>0</td>\n",
              "      <td>0</td>\n",
              "      <td>11</td>\n",
              "      <td>12</td>\n",
              "    </tr>\n",
              "    <tr>\n",
              "      <th>394</th>\n",
              "      <td>19</td>\n",
              "      <td>0</td>\n",
              "      <td>5</td>\n",
              "      <td>8</td>\n",
              "      <td>9</td>\n",
              "    </tr>\n",
              "  </tbody>\n",
              "</table>\n",
              "<p>395 rows × 5 columns</p>\n",
              "</div>"
            ],
            "text/plain": [
              "     age  failures  absences  G1  G2\n",
              "0     18         0         6   5   6\n",
              "1     17         0         4   5   5\n",
              "2     15         3        10   7   8\n",
              "3     15         0         2  15  14\n",
              "4     16         0         4   6  10\n",
              "..   ...       ...       ...  ..  ..\n",
              "390   20         2        11   9   9\n",
              "391   17         0         3  14  16\n",
              "392   21         3         3  10   8\n",
              "393   18         0         0  11  12\n",
              "394   19         0         5   8   9\n",
              "\n",
              "[395 rows x 5 columns]"
            ]
          },
          "execution_count": 10,
          "metadata": {},
          "output_type": "execute_result"
        }
      ],
      "source": [
        "df[numeric_feature_names]"
      ]
    },
    {
      "cell_type": "code",
      "execution_count": 11,
      "metadata": {
        "colab": {
          "base_uri": "https://localhost:8080/",
          "height": 1000
        },
        "id": "ws8OtTau8jIY",
        "outputId": "73efac46-5cc0-439a-be3c-cbf21ca3da8d"
      },
      "outputs": [
        {
          "data": {
            "image/png": "[encoded data removed]",
            "text/plain": [
              "<Figure size 640x480 with 1 Axes>"
            ]
          },
          "metadata": {},
          "output_type": "display_data"
        },
        {
          "data": {
            "image/png": "[encoded data removed]",
            "text/plain": [
              "<Figure size 640x480 with 1 Axes>"
            ]
          },
          "metadata": {},
          "output_type": "display_data"
        },
        {
          "data": {
            "image/png": "[encoded data removed]",
            "text/plain": [
              "<Figure size 640x480 with 1 Axes>"
            ]
          },
          "metadata": {},
          "output_type": "display_data"
        },
        {
          "data": {
            "image/png": "[encoded data removed]",
            "text/plain": [
              "<Figure size 640x480 with 1 Axes>"
            ]
          },
          "metadata": {},
          "output_type": "display_data"
        },
        {
          "data": {
            "image/png": "[encoded data removed]",
            "text/plain": [
              "<Figure size 640x480 with 1 Axes>"
            ]
          },
          "metadata": {},
          "output_type": "display_data"
        }
      ],
      "source": [
        "for feature_name in numeric_feature_names:\n",
        "  df.hist(column=feature_name)"
      ]
    },
    {
      "cell_type": "code",
      "execution_count": 12,
      "metadata": {
        "colab": {
          "base_uri": "https://localhost:8080/",
          "height": 423
        },
        "id": "-c2onAZ09Tuq",
        "outputId": "c09e53f2-761c-45cd-abbe-a95421da943e"
      },
      "outputs": [
        {
          "data": {
            "text/html": [
              "<div>\n",
              "<style scoped>\n",
              "    .dataframe tbody tr th:only-of-type {\n",
              "        vertical-align: middle;\n",
              "    }\n",
              "\n",
              "    .dataframe tbody tr th {\n",
              "        vertical-align: top;\n",
              "    }\n",
              "\n",
              "    .dataframe thead th {\n",
              "        text-align: right;\n",
              "    }\n",
              "</style>\n",
              "<table border=\"1\" class=\"dataframe\">\n",
              "  <thead>\n",
              "    <tr style=\"text-align: right;\">\n",
              "      <th></th>\n",
              "      <th>Fedu</th>\n",
              "      <th>health</th>\n",
              "      <th>nursery</th>\n",
              "      <th>goout</th>\n",
              "      <th>studytime</th>\n",
              "      <th>freetime</th>\n",
              "      <th>Mjob</th>\n",
              "      <th>sex</th>\n",
              "      <th>guardian</th>\n",
              "      <th>famrel</th>\n",
              "      <th>...</th>\n",
              "      <th>higher</th>\n",
              "      <th>Fjob</th>\n",
              "      <th>traveltime</th>\n",
              "      <th>famsize</th>\n",
              "      <th>Pstatus</th>\n",
              "      <th>Walc</th>\n",
              "      <th>paid</th>\n",
              "      <th>schoolsup</th>\n",
              "      <th>internet</th>\n",
              "      <th>activities</th>\n",
              "    </tr>\n",
              "  </thead>\n",
              "  <tbody>\n",
              "    <tr>\n",
              "      <th>0</th>\n",
              "      <td>4</td>\n",
              "      <td>3</td>\n",
              "      <td>yes</td>\n",
              "      <td>4</td>\n",
              "      <td>2</td>\n",
              "      <td>3</td>\n",
              "      <td>at_home</td>\n",
              "      <td>F</td>\n",
              "      <td>mother</td>\n",
              "      <td>4</td>\n",
              "      <td>...</td>\n",
              "      <td>yes</td>\n",
              "      <td>teacher</td>\n",
              "      <td>2</td>\n",
              "      <td>GT3</td>\n",
              "      <td>A</td>\n",
              "      <td>1</td>\n",
              "      <td>no</td>\n",
              "      <td>yes</td>\n",
              "      <td>no</td>\n",
              "      <td>no</td>\n",
              "    </tr>\n",
              "    <tr>\n",
              "      <th>1</th>\n",
              "      <td>1</td>\n",
              "      <td>3</td>\n",
              "      <td>no</td>\n",
              "      <td>3</td>\n",
              "      <td>2</td>\n",
              "      <td>3</td>\n",
              "      <td>at_home</td>\n",
              "      <td>F</td>\n",
              "      <td>father</td>\n",
              "      <td>5</td>\n",
              "      <td>...</td>\n",
              "      <td>yes</td>\n",
              "      <td>other</td>\n",
              "      <td>1</td>\n",
              "      <td>GT3</td>\n",
              "      <td>T</td>\n",
              "      <td>1</td>\n",
              "      <td>no</td>\n",
              "      <td>no</td>\n",
              "      <td>yes</td>\n",
              "      <td>no</td>\n",
              "    </tr>\n",
              "    <tr>\n",
              "      <th>2</th>\n",
              "      <td>1</td>\n",
              "      <td>3</td>\n",
              "      <td>yes</td>\n",
              "      <td>2</td>\n",
              "      <td>2</td>\n",
              "      <td>3</td>\n",
              "      <td>at_home</td>\n",
              "      <td>F</td>\n",
              "      <td>mother</td>\n",
              "      <td>4</td>\n",
              "      <td>...</td>\n",
              "      <td>yes</td>\n",
              "      <td>other</td>\n",
              "      <td>1</td>\n",
              "      <td>LE3</td>\n",
              "      <td>T</td>\n",
              "      <td>3</td>\n",
              "      <td>yes</td>\n",
              "      <td>yes</td>\n",
              "      <td>yes</td>\n",
              "      <td>no</td>\n",
              "    </tr>\n",
              "    <tr>\n",
              "      <th>3</th>\n",
              "      <td>2</td>\n",
              "      <td>5</td>\n",
              "      <td>yes</td>\n",
              "      <td>2</td>\n",
              "      <td>3</td>\n",
              "      <td>2</td>\n",
              "      <td>health</td>\n",
              "      <td>F</td>\n",
              "      <td>mother</td>\n",
              "      <td>3</td>\n",
              "      <td>...</td>\n",
              "      <td>yes</td>\n",
              "      <td>services</td>\n",
              "      <td>1</td>\n",
              "      <td>GT3</td>\n",
              "      <td>T</td>\n",
              "      <td>1</td>\n",
              "      <td>yes</td>\n",
              "      <td>no</td>\n",
              "      <td>yes</td>\n",
              "      <td>yes</td>\n",
              "    </tr>\n",
              "    <tr>\n",
              "      <th>4</th>\n",
              "      <td>3</td>\n",
              "      <td>5</td>\n",
              "      <td>yes</td>\n",
              "      <td>2</td>\n",
              "      <td>2</td>\n",
              "      <td>3</td>\n",
              "      <td>other</td>\n",
              "      <td>F</td>\n",
              "      <td>father</td>\n",
              "      <td>4</td>\n",
              "      <td>...</td>\n",
              "      <td>yes</td>\n",
              "      <td>other</td>\n",
              "      <td>1</td>\n",
              "      <td>GT3</td>\n",
              "      <td>T</td>\n",
              "      <td>2</td>\n",
              "      <td>yes</td>\n",
              "      <td>no</td>\n",
              "      <td>no</td>\n",
              "      <td>no</td>\n",
              "    </tr>\n",
              "    <tr>\n",
              "      <th>...</th>\n",
              "      <td>...</td>\n",
              "      <td>...</td>\n",
              "      <td>...</td>\n",
              "      <td>...</td>\n",
              "      <td>...</td>\n",
              "      <td>...</td>\n",
              "      <td>...</td>\n",
              "      <td>...</td>\n",
              "      <td>...</td>\n",
              "      <td>...</td>\n",
              "      <td>...</td>\n",
              "      <td>...</td>\n",
              "      <td>...</td>\n",
              "      <td>...</td>\n",
              "      <td>...</td>\n",
              "      <td>...</td>\n",
              "      <td>...</td>\n",
              "      <td>...</td>\n",
              "      <td>...</td>\n",
              "      <td>...</td>\n",
              "      <td>...</td>\n",
              "    </tr>\n",
              "    <tr>\n",
              "      <th>390</th>\n",
              "      <td>2</td>\n",
              "      <td>4</td>\n",
              "      <td>yes</td>\n",
              "      <td>4</td>\n",
              "      <td>2</td>\n",
              "      <td>5</td>\n",
              "      <td>services</td>\n",
              "      <td>M</td>\n",
              "      <td>other</td>\n",
              "      <td>5</td>\n",
              "      <td>...</td>\n",
              "      <td>yes</td>\n",
              "      <td>services</td>\n",
              "      <td>1</td>\n",
              "      <td>LE3</td>\n",
              "      <td>A</td>\n",
              "      <td>5</td>\n",
              "      <td>yes</td>\n",
              "      <td>no</td>\n",
              "      <td>no</td>\n",
              "      <td>no</td>\n",
              "    </tr>\n",
              "    <tr>\n",
              "      <th>391</th>\n",
              "      <td>1</td>\n",
              "      <td>2</td>\n",
              "      <td>no</td>\n",
              "      <td>5</td>\n",
              "      <td>1</td>\n",
              "      <td>4</td>\n",
              "      <td>services</td>\n",
              "      <td>M</td>\n",
              "      <td>mother</td>\n",
              "      <td>2</td>\n",
              "      <td>...</td>\n",
              "      <td>yes</td>\n",
              "      <td>services</td>\n",
              "      <td>2</td>\n",
              "      <td>LE3</td>\n",
              "      <td>T</td>\n",
              "      <td>4</td>\n",
              "      <td>no</td>\n",
              "      <td>no</td>\n",
              "      <td>yes</td>\n",
              "      <td>no</td>\n",
              "    </tr>\n",
              "    <tr>\n",
              "      <th>392</th>\n",
              "      <td>1</td>\n",
              "      <td>3</td>\n",
              "      <td>no</td>\n",
              "      <td>3</td>\n",
              "      <td>1</td>\n",
              "      <td>5</td>\n",
              "      <td>other</td>\n",
              "      <td>M</td>\n",
              "      <td>other</td>\n",
              "      <td>5</td>\n",
              "      <td>...</td>\n",
              "      <td>yes</td>\n",
              "      <td>other</td>\n",
              "      <td>1</td>\n",
              "      <td>GT3</td>\n",
              "      <td>T</td>\n",
              "      <td>3</td>\n",
              "      <td>no</td>\n",
              "      <td>no</td>\n",
              "      <td>no</td>\n",
              "      <td>no</td>\n",
              "    </tr>\n",
              "    <tr>\n",
              "      <th>393</th>\n",
              "      <td>2</td>\n",
              "      <td>5</td>\n",
              "      <td>no</td>\n",
              "      <td>1</td>\n",
              "      <td>1</td>\n",
              "      <td>4</td>\n",
              "      <td>services</td>\n",
              "      <td>M</td>\n",
              "      <td>mother</td>\n",
              "      <td>4</td>\n",
              "      <td>...</td>\n",
              "      <td>yes</td>\n",
              "      <td>other</td>\n",
              "      <td>3</td>\n",
              "      <td>LE3</td>\n",
              "      <td>T</td>\n",
              "      <td>4</td>\n",
              "      <td>no</td>\n",
              "      <td>no</td>\n",
              "      <td>yes</td>\n",
              "      <td>no</td>\n",
              "    </tr>\n",
              "    <tr>\n",
              "      <th>394</th>\n",
              "      <td>1</td>\n",
              "      <td>5</td>\n",
              "      <td>yes</td>\n",
              "      <td>3</td>\n",
              "      <td>1</td>\n",
              "      <td>2</td>\n",
              "      <td>other</td>\n",
              "      <td>M</td>\n",
              "      <td>father</td>\n",
              "      <td>3</td>\n",
              "      <td>...</td>\n",
              "      <td>yes</td>\n",
              "      <td>at_home</td>\n",
              "      <td>1</td>\n",
              "      <td>LE3</td>\n",
              "      <td>T</td>\n",
              "      <td>3</td>\n",
              "      <td>no</td>\n",
              "      <td>no</td>\n",
              "      <td>yes</td>\n",
              "      <td>no</td>\n",
              "    </tr>\n",
              "  </tbody>\n",
              "</table>\n",
              "<p>395 rows × 27 columns</p>\n",
              "</div>"
            ],
            "text/plain": [
              "     Fedu  health nursery  goout  studytime  freetime      Mjob sex guardian  \\\n",
              "0       4       3     yes      4          2         3   at_home   F   mother   \n",
              "1       1       3      no      3          2         3   at_home   F   father   \n",
              "2       1       3     yes      2          2         3   at_home   F   mother   \n",
              "3       2       5     yes      2          3         2    health   F   mother   \n",
              "4       3       5     yes      2          2         3     other   F   father   \n",
              "..    ...     ...     ...    ...        ...       ...       ...  ..      ...   \n",
              "390     2       4     yes      4          2         5  services   M    other   \n",
              "391     1       2      no      5          1         4  services   M   mother   \n",
              "392     1       3      no      3          1         5     other   M    other   \n",
              "393     2       5      no      1          1         4  services   M   mother   \n",
              "394     1       5     yes      3          1         2     other   M   father   \n",
              "\n",
              "     famrel  ... higher      Fjob traveltime  famsize Pstatus  Walc paid  \\\n",
              "0         4  ...    yes   teacher          2      GT3       A     1   no   \n",
              "1         5  ...    yes     other          1      GT3       T     1   no   \n",
              "2         4  ...    yes     other          1      LE3       T     3  yes   \n",
              "3         3  ...    yes  services          1      GT3       T     1  yes   \n",
              "4         4  ...    yes     other          1      GT3       T     2  yes   \n",
              "..      ...  ...    ...       ...        ...      ...     ...   ...  ...   \n",
              "390       5  ...    yes  services          1      LE3       A     5  yes   \n",
              "391       2  ...    yes  services          2      LE3       T     4   no   \n",
              "392       5  ...    yes     other          1      GT3       T     3   no   \n",
              "393       4  ...    yes     other          3      LE3       T     4   no   \n",
              "394       3  ...    yes   at_home          1      LE3       T     3   no   \n",
              "\n",
              "    schoolsup internet  activities  \n",
              "0         yes       no          no  \n",
              "1          no      yes          no  \n",
              "2         yes      yes          no  \n",
              "3          no      yes         yes  \n",
              "4          no       no          no  \n",
              "..        ...      ...         ...  \n",
              "390        no       no          no  \n",
              "391        no      yes          no  \n",
              "392        no       no          no  \n",
              "393        no      yes          no  \n",
              "394        no      yes          no  \n",
              "\n",
              "[395 rows x 27 columns]"
            ]
          },
          "execution_count": 12,
          "metadata": {},
          "output_type": "execute_result"
        }
      ],
      "source": [
        "df[categorical_feature_names]"
      ]
    },
    {
      "cell_type": "code",
      "execution_count": 13,
      "metadata": {
        "colab": {
          "base_uri": "https://localhost:8080/"
        },
        "id": "swlPiGiG9djj",
        "outputId": "5052f3d5-9a30-490a-b7bc-3d407ac80801"
      },
      "outputs": [
        {
          "name": "stdout",
          "output_type": "stream",
          "text": [
            "     age  failures  absences  G1  G2  G3  Fedu_0  Fedu_1  Fedu_2  Fedu_3  ...  \\\n",
            "0     18         0         6   5   6   6       0       0       0       0  ...   \n",
            "1     17         0         4   5   5   6       0       1       0       0  ...   \n",
            "2     15         3        10   7   8  10       0       1       0       0  ...   \n",
            "3     15         0         2  15  14  15       0       0       1       0  ...   \n",
            "4     16         0         4   6  10  10       0       0       0       1  ...   \n",
            "..   ...       ...       ...  ..  ..  ..     ...     ...     ...     ...  ...   \n",
            "390   20         2        11   9   9   9       0       0       1       0  ...   \n",
            "391   17         0         3  14  16  16       0       1       0       0  ...   \n",
            "392   21         3         3  10   8   7       0       1       0       0  ...   \n",
            "393   18         0         0  11  12  10       0       0       1       0  ...   \n",
            "394   19         0         5   8   9   9       0       1       0       0  ...   \n",
            "\n",
            "     Walc_4  Walc_5  paid_no  paid_yes  schoolsup_no  schoolsup_yes  \\\n",
            "0         0       0        1         0             0              1   \n",
            "1         0       0        1         0             1              0   \n",
            "2         0       0        0         1             0              1   \n",
            "3         0       0        0         1             1              0   \n",
            "4         0       0        0         1             1              0   \n",
            "..      ...     ...      ...       ...           ...            ...   \n",
            "390       0       1        0         1             1              0   \n",
            "391       1       0        1         0             1              0   \n",
            "392       0       0        1         0             1              0   \n",
            "393       1       0        1         0             1              0   \n",
            "394       0       0        1         0             1              0   \n",
            "\n",
            "     internet_no  internet_yes  activities_no  activities_yes  \n",
            "0              1             0              1               0  \n",
            "1              0             1              1               0  \n",
            "2              0             1              1               0  \n",
            "3              0             1              0               1  \n",
            "4              1             0              1               0  \n",
            "..           ...           ...            ...             ...  \n",
            "390            1             0              1               0  \n",
            "391            0             1              1               0  \n",
            "392            1             0              1               0  \n",
            "393            0             1              1               0  \n",
            "394            0             1              1               0  \n",
            "\n",
            "[395 rows x 97 columns]\n"
          ]
        }
      ],
      "source": [
        "one_hot_encoded_data = pd.get_dummies(df, columns=categorical_feature_names)\n",
        "print(one_hot_encoded_data)"
      ]
    },
    {
      "cell_type": "code",
      "execution_count": 14,
      "metadata": {
        "colab": {
          "base_uri": "https://localhost:8080/"
        },
        "id": "FruZeltL_K-m",
        "outputId": "297c5ceb-8cf4-480e-fcb9-5957c894a35e"
      },
      "outputs": [
        {
          "name": "stdout",
          "output_type": "stream",
          "text": [
            "     age  failures  absences  G1  G2  G3  Fedu_0  Fedu_1  Fedu_2  Fedu_3  ...  \\\n",
            "0     18         0         6   5   6   6       0       0       0       0  ...   \n",
            "1     17         0         4   5   5   6       0       1       0       0  ...   \n",
            "2     15         3        10   7   8  10       0       1       0       0  ...   \n",
            "3     15         0         2  15  14  15       0       0       1       0  ...   \n",
            "4     16         0         4   6  10  10       0       0       0       1  ...   \n",
            "..   ...       ...       ...  ..  ..  ..     ...     ...     ...     ...  ...   \n",
            "390   20         2        11   9   9   9       0       0       1       0  ...   \n",
            "391   17         0         3  14  16  16       0       1       0       0  ...   \n",
            "392   21         3         3  10   8   7       0       1       0       0  ...   \n",
            "393   18         0         0  11  12  10       0       0       1       0  ...   \n",
            "394   19         0         5   8   9   9       0       1       0       0  ...   \n",
            "\n",
            "     Pstatus_T  Walc_1  Walc_2  Walc_3  Walc_4  Walc_5  paid_yes  \\\n",
            "0            0       1       0       0       0       0         0   \n",
            "1            1       1       0       0       0       0         0   \n",
            "2            1       0       0       1       0       0         1   \n",
            "3            1       1       0       0       0       0         1   \n",
            "4            1       0       1       0       0       0         1   \n",
            "..         ...     ...     ...     ...     ...     ...       ...   \n",
            "390          0       0       0       0       0       1         1   \n",
            "391          1       0       0       0       1       0         0   \n",
            "392          1       0       0       1       0       0         0   \n",
            "393          1       0       0       0       1       0         0   \n",
            "394          1       0       0       1       0       0         0   \n",
            "\n",
            "     schoolsup_yes  internet_yes  activities_yes  \n",
            "0                1             0               0  \n",
            "1                0             1               0  \n",
            "2                1             1               0  \n",
            "3                0             1               1  \n",
            "4                0             0               0  \n",
            "..             ...           ...             ...  \n",
            "390              0             0               0  \n",
            "391              0             1               0  \n",
            "392              0             0               0  \n",
            "393              0             1               0  \n",
            "394              0             1               0  \n",
            "\n",
            "[395 rows x 89 columns]\n"
          ]
        }
      ],
      "source": [
        "for feature_name in one_hot_encoded_data.columns:\n",
        "  if feature_name.endswith('_no'):\n",
        "    one_hot_encoded_data.drop(columns=feature_name, inplace=True)\n",
        "print(one_hot_encoded_data)"
      ]
    },
    {
      "cell_type": "code",
      "execution_count": 15,
      "metadata": {
        "colab": {
          "base_uri": "https://localhost:8080/",
          "height": 423
        },
        "id": "EZr_2yCdAZs8",
        "outputId": "57f0b9de-677e-4fab-ea50-8cfb86a6daf4"
      },
      "outputs": [
        {
          "data": {
            "text/html": [
              "<div>\n",
              "<style scoped>\n",
              "    .dataframe tbody tr th:only-of-type {\n",
              "        vertical-align: middle;\n",
              "    }\n",
              "\n",
              "    .dataframe tbody tr th {\n",
              "        vertical-align: top;\n",
              "    }\n",
              "\n",
              "    .dataframe thead th {\n",
              "        text-align: right;\n",
              "    }\n",
              "</style>\n",
              "<table border=\"1\" class=\"dataframe\">\n",
              "  <thead>\n",
              "    <tr style=\"text-align: right;\">\n",
              "      <th></th>\n",
              "      <th>age</th>\n",
              "      <th>failures</th>\n",
              "      <th>absences</th>\n",
              "      <th>G1</th>\n",
              "      <th>G2</th>\n",
              "      <th>G3</th>\n",
              "      <th>Fedu_0</th>\n",
              "      <th>Fedu_1</th>\n",
              "      <th>Fedu_2</th>\n",
              "      <th>Fedu_3</th>\n",
              "      <th>...</th>\n",
              "      <th>famsize_GT3</th>\n",
              "      <th>Pstatus_A</th>\n",
              "      <th>Walc_1</th>\n",
              "      <th>Walc_2</th>\n",
              "      <th>Walc_3</th>\n",
              "      <th>Walc_4</th>\n",
              "      <th>paid_yes</th>\n",
              "      <th>schoolsup_yes</th>\n",
              "      <th>internet_yes</th>\n",
              "      <th>activities_yes</th>\n",
              "    </tr>\n",
              "  </thead>\n",
              "  <tbody>\n",
              "    <tr>\n",
              "      <th>0</th>\n",
              "      <td>18</td>\n",
              "      <td>0</td>\n",
              "      <td>6</td>\n",
              "      <td>5</td>\n",
              "      <td>6</td>\n",
              "      <td>6</td>\n",
              "      <td>0</td>\n",
              "      <td>0</td>\n",
              "      <td>0</td>\n",
              "      <td>0</td>\n",
              "      <td>...</td>\n",
              "      <td>1</td>\n",
              "      <td>1</td>\n",
              "      <td>1</td>\n",
              "      <td>0</td>\n",
              "      <td>0</td>\n",
              "      <td>0</td>\n",
              "      <td>0</td>\n",
              "      <td>1</td>\n",
              "      <td>0</td>\n",
              "      <td>0</td>\n",
              "    </tr>\n",
              "    <tr>\n",
              "      <th>1</th>\n",
              "      <td>17</td>\n",
              "      <td>0</td>\n",
              "      <td>4</td>\n",
              "      <td>5</td>\n",
              "      <td>5</td>\n",
              "      <td>6</td>\n",
              "      <td>0</td>\n",
              "      <td>1</td>\n",
              "      <td>0</td>\n",
              "      <td>0</td>\n",
              "      <td>...</td>\n",
              "      <td>1</td>\n",
              "      <td>0</td>\n",
              "      <td>1</td>\n",
              "      <td>0</td>\n",
              "      <td>0</td>\n",
              "      <td>0</td>\n",
              "      <td>0</td>\n",
              "      <td>0</td>\n",
              "      <td>1</td>\n",
              "      <td>0</td>\n",
              "    </tr>\n",
              "    <tr>\n",
              "      <th>2</th>\n",
              "      <td>15</td>\n",
              "      <td>3</td>\n",
              "      <td>10</td>\n",
              "      <td>7</td>\n",
              "      <td>8</td>\n",
              "      <td>10</td>\n",
              "      <td>0</td>\n",
              "      <td>1</td>\n",
              "      <td>0</td>\n",
              "      <td>0</td>\n",
              "      <td>...</td>\n",
              "      <td>0</td>\n",
              "      <td>0</td>\n",
              "      <td>0</td>\n",
              "      <td>0</td>\n",
              "      <td>1</td>\n",
              "      <td>0</td>\n",
              "      <td>1</td>\n",
              "      <td>1</td>\n",
              "      <td>1</td>\n",
              "      <td>0</td>\n",
              "    </tr>\n",
              "    <tr>\n",
              "      <th>3</th>\n",
              "      <td>15</td>\n",
              "      <td>0</td>\n",
              "      <td>2</td>\n",
              "      <td>15</td>\n",
              "      <td>14</td>\n",
              "      <td>15</td>\n",
              "      <td>0</td>\n",
              "      <td>0</td>\n",
              "      <td>1</td>\n",
              "      <td>0</td>\n",
              "      <td>...</td>\n",
              "      <td>1</td>\n",
              "      <td>0</td>\n",
              "      <td>1</td>\n",
              "      <td>0</td>\n",
              "      <td>0</td>\n",
              "      <td>0</td>\n",
              "      <td>1</td>\n",
              "      <td>0</td>\n",
              "      <td>1</td>\n",
              "      <td>1</td>\n",
              "    </tr>\n",
              "    <tr>\n",
              "      <th>4</th>\n",
              "      <td>16</td>\n",
              "      <td>0</td>\n",
              "      <td>4</td>\n",
              "      <td>6</td>\n",
              "      <td>10</td>\n",
              "      <td>10</td>\n",
              "      <td>0</td>\n",
              "      <td>0</td>\n",
              "      <td>0</td>\n",
              "      <td>1</td>\n",
              "      <td>...</td>\n",
              "      <td>1</td>\n",
              "      <td>0</td>\n",
              "      <td>0</td>\n",
              "      <td>1</td>\n",
              "      <td>0</td>\n",
              "      <td>0</td>\n",
              "      <td>1</td>\n",
              "      <td>0</td>\n",
              "      <td>0</td>\n",
              "      <td>0</td>\n",
              "    </tr>\n",
              "    <tr>\n",
              "      <th>...</th>\n",
              "      <td>...</td>\n",
              "      <td>...</td>\n",
              "      <td>...</td>\n",
              "      <td>...</td>\n",
              "      <td>...</td>\n",
              "      <td>...</td>\n",
              "      <td>...</td>\n",
              "      <td>...</td>\n",
              "      <td>...</td>\n",
              "      <td>...</td>\n",
              "      <td>...</td>\n",
              "      <td>...</td>\n",
              "      <td>...</td>\n",
              "      <td>...</td>\n",
              "      <td>...</td>\n",
              "      <td>...</td>\n",
              "      <td>...</td>\n",
              "      <td>...</td>\n",
              "      <td>...</td>\n",
              "      <td>...</td>\n",
              "      <td>...</td>\n",
              "    </tr>\n",
              "    <tr>\n",
              "      <th>390</th>\n",
              "      <td>20</td>\n",
              "      <td>2</td>\n",
              "      <td>11</td>\n",
              "      <td>9</td>\n",
              "      <td>9</td>\n",
              "      <td>9</td>\n",
              "      <td>0</td>\n",
              "      <td>0</td>\n",
              "      <td>1</td>\n",
              "      <td>0</td>\n",
              "      <td>...</td>\n",
              "      <td>0</td>\n",
              "      <td>1</td>\n",
              "      <td>0</td>\n",
              "      <td>0</td>\n",
              "      <td>0</td>\n",
              "      <td>0</td>\n",
              "      <td>1</td>\n",
              "      <td>0</td>\n",
              "      <td>0</td>\n",
              "      <td>0</td>\n",
              "    </tr>\n",
              "    <tr>\n",
              "      <th>391</th>\n",
              "      <td>17</td>\n",
              "      <td>0</td>\n",
              "      <td>3</td>\n",
              "      <td>14</td>\n",
              "      <td>16</td>\n",
              "      <td>16</td>\n",
              "      <td>0</td>\n",
              "      <td>1</td>\n",
              "      <td>0</td>\n",
              "      <td>0</td>\n",
              "      <td>...</td>\n",
              "      <td>0</td>\n",
              "      <td>0</td>\n",
              "      <td>0</td>\n",
              "      <td>0</td>\n",
              "      <td>0</td>\n",
              "      <td>1</td>\n",
              "      <td>0</td>\n",
              "      <td>0</td>\n",
              "      <td>1</td>\n",
              "      <td>0</td>\n",
              "    </tr>\n",
              "    <tr>\n",
              "      <th>392</th>\n",
              "      <td>21</td>\n",
              "      <td>3</td>\n",
              "      <td>3</td>\n",
              "      <td>10</td>\n",
              "      <td>8</td>\n",
              "      <td>7</td>\n",
              "      <td>0</td>\n",
              "      <td>1</td>\n",
              "      <td>0</td>\n",
              "      <td>0</td>\n",
              "      <td>...</td>\n",
              "      <td>1</td>\n",
              "      <td>0</td>\n",
              "      <td>0</td>\n",
              "      <td>0</td>\n",
              "      <td>1</td>\n",
              "      <td>0</td>\n",
              "      <td>0</td>\n",
              "      <td>0</td>\n",
              "      <td>0</td>\n",
              "      <td>0</td>\n",
              "    </tr>\n",
              "    <tr>\n",
              "      <th>393</th>\n",
              "      <td>18</td>\n",
              "      <td>0</td>\n",
              "      <td>0</td>\n",
              "      <td>11</td>\n",
              "      <td>12</td>\n",
              "      <td>10</td>\n",
              "      <td>0</td>\n",
              "      <td>0</td>\n",
              "      <td>1</td>\n",
              "      <td>0</td>\n",
              "      <td>...</td>\n",
              "      <td>0</td>\n",
              "      <td>0</td>\n",
              "      <td>0</td>\n",
              "      <td>0</td>\n",
              "      <td>0</td>\n",
              "      <td>1</td>\n",
              "      <td>0</td>\n",
              "      <td>0</td>\n",
              "      <td>1</td>\n",
              "      <td>0</td>\n",
              "    </tr>\n",
              "    <tr>\n",
              "      <th>394</th>\n",
              "      <td>19</td>\n",
              "      <td>0</td>\n",
              "      <td>5</td>\n",
              "      <td>8</td>\n",
              "      <td>9</td>\n",
              "      <td>9</td>\n",
              "      <td>0</td>\n",
              "      <td>1</td>\n",
              "      <td>0</td>\n",
              "      <td>0</td>\n",
              "      <td>...</td>\n",
              "      <td>0</td>\n",
              "      <td>0</td>\n",
              "      <td>0</td>\n",
              "      <td>0</td>\n",
              "      <td>1</td>\n",
              "      <td>0</td>\n",
              "      <td>0</td>\n",
              "      <td>0</td>\n",
              "      <td>1</td>\n",
              "      <td>0</td>\n",
              "    </tr>\n",
              "  </tbody>\n",
              "</table>\n",
              "<p>395 rows × 70 columns</p>\n",
              "</div>"
            ],
            "text/plain": [
              "     age  failures  absences  G1  G2  G3  Fedu_0  Fedu_1  Fedu_2  Fedu_3  ...  \\\n",
              "0     18         0         6   5   6   6       0       0       0       0  ...   \n",
              "1     17         0         4   5   5   6       0       1       0       0  ...   \n",
              "2     15         3        10   7   8  10       0       1       0       0  ...   \n",
              "3     15         0         2  15  14  15       0       0       1       0  ...   \n",
              "4     16         0         4   6  10  10       0       0       0       1  ...   \n",
              "..   ...       ...       ...  ..  ..  ..     ...     ...     ...     ...  ...   \n",
              "390   20         2        11   9   9   9       0       0       1       0  ...   \n",
              "391   17         0         3  14  16  16       0       1       0       0  ...   \n",
              "392   21         3         3  10   8   7       0       1       0       0  ...   \n",
              "393   18         0         0  11  12  10       0       0       1       0  ...   \n",
              "394   19         0         5   8   9   9       0       1       0       0  ...   \n",
              "\n",
              "     famsize_GT3  Pstatus_A  Walc_1  Walc_2  Walc_3  Walc_4  paid_yes  \\\n",
              "0              1          1       1       0       0       0         0   \n",
              "1              1          0       1       0       0       0         0   \n",
              "2              0          0       0       0       1       0         1   \n",
              "3              1          0       1       0       0       0         1   \n",
              "4              1          0       0       1       0       0         1   \n",
              "..           ...        ...     ...     ...     ...     ...       ...   \n",
              "390            0          1       0       0       0       0         1   \n",
              "391            0          0       0       0       0       1         0   \n",
              "392            1          0       0       0       1       0         0   \n",
              "393            0          0       0       0       0       1         0   \n",
              "394            0          0       0       0       1       0         0   \n",
              "\n",
              "     schoolsup_yes  internet_yes  activities_yes  \n",
              "0                1             0               0  \n",
              "1                0             1               0  \n",
              "2                1             1               0  \n",
              "3                0             1               1  \n",
              "4                0             0               0  \n",
              "..             ...           ...             ...  \n",
              "390              0             0               0  \n",
              "391              0             1               0  \n",
              "392              0             0               0  \n",
              "393              0             1               0  \n",
              "394              0             1               0  \n",
              "\n",
              "[395 rows x 70 columns]"
            ]
          },
          "execution_count": 15,
          "metadata": {},
          "output_type": "execute_result"
        }
      ],
      "source": [
        "# Still should have 70 columns, 19 left to drop\n",
        "one_hot_encoded_data.drop(columns=['school_MS', 'sex_F', 'address_R', 'famsize_LE3', 'Pstatus_T', 'Mjob_other', 'Fjob_other',\n",
        "                                   'reason_other', 'guardian_other', 'Medu_4',\t'Fedu_4',\t'traveltime_4',\t'studytime_4', 'famrel_5',\n",
        "                                   'freetime_5',\t'goout_5',\t'Dalc_5',\t'Walc_5',\t'health_5'], inplace=True)\n",
        "one_hot_encoded_data"
      ]
    },
    {
      "cell_type": "code",
      "execution_count": 16,
      "metadata": {
        "colab": {
          "base_uri": "https://localhost:8080/"
        },
        "id": "UGWcDAMGWAIV",
        "outputId": "865e1673-8259-4871-d736-24d5a9793f40"
      },
      "outputs": [
        {
          "name": "stdout",
          "output_type": "stream",
          "text": [
            "school = ['GP' 'MS']\n",
            "sex = ['F' 'M']\n",
            "address = ['U' 'R']\n",
            "famsize = ['GT3' 'LE3']\n",
            "Pstatus = ['A' 'T']\n",
            "Mjob = ['at_home' 'health' 'other' 'services' 'teacher']\n",
            "Fjob = ['teacher' 'other' 'services' 'health' 'at_home']\n",
            "reason = ['course' 'other' 'home' 'reputation']\n",
            "guardian = ['mother' 'father' 'other']\n",
            "schoolsup = ['yes' 'no']\n",
            "famsup = ['no' 'yes']\n",
            "paid = ['no' 'yes']\n",
            "activities = ['no' 'yes']\n",
            "nursery = ['yes' 'no']\n",
            "higher = ['yes' 'no']\n",
            "internet = ['no' 'yes']\n",
            "romantic = ['no' 'yes']\n"
          ]
        }
      ],
      "source": [
        "print(\"school =\", df['school'].unique()) # 1\n",
        "print(\"sex =\", df['sex'].unique()) # 2\n",
        "print(\"address =\", df['address'].unique()) # 4\n",
        "print(\"famsize =\", df['famsize'].unique()) # 5\n",
        "print(\"Pstatus =\", df['Pstatus'].unique()) # 6\n",
        "print(\"Mjob =\", df['Mjob'].unique()) # 9\n",
        "print(\"Fjob =\", df['Fjob'].unique()) # 10\n",
        "print(\"reason =\", df['reason'].unique()) # 11\n",
        "print(\"guardian =\", df['guardian'].unique()) # 12\n",
        "print(\"schoolsup =\", df['schoolsup'].unique()) # 16\n",
        "print(\"famsup =\", df['famsup'].unique()) # 17\n",
        "print(\"paid =\", df['paid'].unique()) # 18\n",
        "print(\"activities =\", df['activities'].unique()) # 19\n",
        "print(\"nursery =\", df['nursery'].unique()) # 20\n",
        "print(\"higher =\", df['higher'].unique()) # 21\n",
        "print(\"internet =\", df['internet'].unique()) # 22\n",
        "print(\"romantic =\", df['romantic'].unique()) # 23"
      ]
    },
    {
      "cell_type": "code",
      "execution_count": 17,
      "metadata": {
        "colab": {
          "base_uri": "https://localhost:8080/"
        },
        "id": "MuakVBx9alCU",
        "outputId": "653625e7-4254-4032-db56-217a3632a54b"
      },
      "outputs": [
        {
          "name": "stdout",
          "output_type": "stream",
          "text": [
            "No. of training examples: 316\n",
            "No. of testing examples: 79\n"
          ]
        }
      ],
      "source": [
        "train_df = one_hot_encoded_data.sample(frac=0.8, random_state=25)\n",
        "test_df = one_hot_encoded_data.drop(train_df.index)\n",
        "\n",
        "print(f\"No. of training examples: {train_df.shape[0]}\")\n",
        "print(f\"No. of testing examples: {test_df.shape[0]}\")"
      ]
    },
    {
      "cell_type": "code",
      "execution_count": 18,
      "metadata": {
        "colab": {
          "base_uri": "https://localhost:8080/",
          "height": 423
        },
        "id": "SZBWzmZyCib-",
        "outputId": "22f29da2-3ce3-4087-be0b-265f243e7192"
      },
      "outputs": [
        {
          "data": {
            "text/html": [
              "<div>\n",
              "<style scoped>\n",
              "    .dataframe tbody tr th:only-of-type {\n",
              "        vertical-align: middle;\n",
              "    }\n",
              "\n",
              "    .dataframe tbody tr th {\n",
              "        vertical-align: top;\n",
              "    }\n",
              "\n",
              "    .dataframe thead th {\n",
              "        text-align: right;\n",
              "    }\n",
              "</style>\n",
              "<table border=\"1\" class=\"dataframe\">\n",
              "  <thead>\n",
              "    <tr style=\"text-align: right;\">\n",
              "      <th></th>\n",
              "      <th>count</th>\n",
              "      <th>mean</th>\n",
              "      <th>std</th>\n",
              "      <th>min</th>\n",
              "      <th>25%</th>\n",
              "      <th>50%</th>\n",
              "      <th>75%</th>\n",
              "      <th>max</th>\n",
              "    </tr>\n",
              "  </thead>\n",
              "  <tbody>\n",
              "    <tr>\n",
              "      <th>age</th>\n",
              "      <td>316.0</td>\n",
              "      <td>16.7</td>\n",
              "      <td>1.3</td>\n",
              "      <td>15.0</td>\n",
              "      <td>16.0</td>\n",
              "      <td>17.0</td>\n",
              "      <td>18.0</td>\n",
              "      <td>22.0</td>\n",
              "    </tr>\n",
              "    <tr>\n",
              "      <th>failures</th>\n",
              "      <td>316.0</td>\n",
              "      <td>0.3</td>\n",
              "      <td>0.8</td>\n",
              "      <td>0.0</td>\n",
              "      <td>0.0</td>\n",
              "      <td>0.0</td>\n",
              "      <td>0.0</td>\n",
              "      <td>3.0</td>\n",
              "    </tr>\n",
              "    <tr>\n",
              "      <th>absences</th>\n",
              "      <td>316.0</td>\n",
              "      <td>5.9</td>\n",
              "      <td>8.6</td>\n",
              "      <td>0.0</td>\n",
              "      <td>0.0</td>\n",
              "      <td>4.0</td>\n",
              "      <td>8.0</td>\n",
              "      <td>75.0</td>\n",
              "    </tr>\n",
              "    <tr>\n",
              "      <th>G1</th>\n",
              "      <td>316.0</td>\n",
              "      <td>10.8</td>\n",
              "      <td>3.3</td>\n",
              "      <td>3.0</td>\n",
              "      <td>8.0</td>\n",
              "      <td>10.0</td>\n",
              "      <td>13.0</td>\n",
              "      <td>19.0</td>\n",
              "    </tr>\n",
              "    <tr>\n",
              "      <th>G2</th>\n",
              "      <td>316.0</td>\n",
              "      <td>10.7</td>\n",
              "      <td>3.6</td>\n",
              "      <td>0.0</td>\n",
              "      <td>8.0</td>\n",
              "      <td>11.0</td>\n",
              "      <td>13.0</td>\n",
              "      <td>19.0</td>\n",
              "    </tr>\n",
              "    <tr>\n",
              "      <th>...</th>\n",
              "      <td>...</td>\n",
              "      <td>...</td>\n",
              "      <td>...</td>\n",
              "      <td>...</td>\n",
              "      <td>...</td>\n",
              "      <td>...</td>\n",
              "      <td>...</td>\n",
              "      <td>...</td>\n",
              "    </tr>\n",
              "    <tr>\n",
              "      <th>Walc_4</th>\n",
              "      <td>316.0</td>\n",
              "      <td>0.1</td>\n",
              "      <td>0.4</td>\n",
              "      <td>0.0</td>\n",
              "      <td>0.0</td>\n",
              "      <td>0.0</td>\n",
              "      <td>0.0</td>\n",
              "      <td>1.0</td>\n",
              "    </tr>\n",
              "    <tr>\n",
              "      <th>paid_yes</th>\n",
              "      <td>316.0</td>\n",
              "      <td>0.5</td>\n",
              "      <td>0.5</td>\n",
              "      <td>0.0</td>\n",
              "      <td>0.0</td>\n",
              "      <td>0.0</td>\n",
              "      <td>1.0</td>\n",
              "      <td>1.0</td>\n",
              "    </tr>\n",
              "    <tr>\n",
              "      <th>schoolsup_yes</th>\n",
              "      <td>316.0</td>\n",
              "      <td>0.1</td>\n",
              "      <td>0.3</td>\n",
              "      <td>0.0</td>\n",
              "      <td>0.0</td>\n",
              "      <td>0.0</td>\n",
              "      <td>0.0</td>\n",
              "      <td>1.0</td>\n",
              "    </tr>\n",
              "    <tr>\n",
              "      <th>internet_yes</th>\n",
              "      <td>316.0</td>\n",
              "      <td>0.8</td>\n",
              "      <td>0.4</td>\n",
              "      <td>0.0</td>\n",
              "      <td>1.0</td>\n",
              "      <td>1.0</td>\n",
              "      <td>1.0</td>\n",
              "      <td>1.0</td>\n",
              "    </tr>\n",
              "    <tr>\n",
              "      <th>activities_yes</th>\n",
              "      <td>316.0</td>\n",
              "      <td>0.5</td>\n",
              "      <td>0.5</td>\n",
              "      <td>0.0</td>\n",
              "      <td>0.0</td>\n",
              "      <td>1.0</td>\n",
              "      <td>1.0</td>\n",
              "      <td>1.0</td>\n",
              "    </tr>\n",
              "  </tbody>\n",
              "</table>\n",
              "<p>70 rows × 8 columns</p>\n",
              "</div>"
            ],
            "text/plain": [
              "                count  mean  std  min  25%  50%  75%  max\n",
              "age             316.0  16.7  1.3 15.0 16.0 17.0 18.0 22.0\n",
              "failures        316.0   0.3  0.8  0.0  0.0  0.0  0.0  3.0\n",
              "absences        316.0   5.9  8.6  0.0  0.0  4.0  8.0 75.0\n",
              "G1              316.0  10.8  3.3  3.0  8.0 10.0 13.0 19.0\n",
              "G2              316.0  10.7  3.6  0.0  8.0 11.0 13.0 19.0\n",
              "...               ...   ...  ...  ...  ...  ...  ...  ...\n",
              "Walc_4          316.0   0.1  0.4  0.0  0.0  0.0  0.0  1.0\n",
              "paid_yes        316.0   0.5  0.5  0.0  0.0  0.0  1.0  1.0\n",
              "schoolsup_yes   316.0   0.1  0.3  0.0  0.0  0.0  0.0  1.0\n",
              "internet_yes    316.0   0.8  0.4  0.0  1.0  1.0  1.0  1.0\n",
              "activities_yes  316.0   0.5  0.5  0.0  0.0  1.0  1.0  1.0\n",
              "\n",
              "[70 rows x 8 columns]"
            ]
          },
          "execution_count": 18,
          "metadata": {},
          "output_type": "execute_result"
        }
      ],
      "source": [
        "train_df.describe().transpose()"
      ]
    },
    {
      "cell_type": "code",
      "execution_count": 19,
      "metadata": {
        "id": "Ar15xp0xCtBV"
      },
      "outputs": [],
      "source": [
        "train_features = train_df.copy()\n",
        "test_features = test_df.copy()\n",
        "\n",
        "train_labels = train_features.pop('G3')\n",
        "test_labels = test_features.pop('G3')"
      ]
    },
    {
      "cell_type": "code",
      "execution_count": 20,
      "metadata": {
        "id": "B4n33wW7DyDg"
      },
      "outputs": [],
      "source": [
        "g1 = np.array(train_features['G1'])\n",
        "\n",
        "g1_normalizer = tf.keras.layers.Normalization(input_shape=[1,], axis=None)\n",
        "g1_normalizer.adapt(g1)"
      ]
    },
    {
      "cell_type": "code",
      "execution_count": 21,
      "metadata": {
        "colab": {
          "base_uri": "https://localhost:8080/"
        },
        "id": "YWwZ-X8zDlCi",
        "outputId": "ce3c9ff1-a2bb-4a46-f47d-0a8670f37c3e"
      },
      "outputs": [
        {
          "name": "stdout",
          "output_type": "stream",
          "text": [
            "Model: \"sequential\"\n",
            "_________________________________________________________________\n"
          ]
        },
        {
          "name": "stdout",
          "output_type": "stream",
          "text": [
            " Layer (type)                Output Shape              Param #   \n",
            "=================================================================\n",
            " normalization (Normalizati  (None, 1)                 3         \n",
            " on)                                                             \n",
            "                                                                 \n",
            " dense (Dense)               (None, 1)                 2         \n",
            "                                                                 \n",
            "=================================================================\n",
            "Total params: 5 (24.00 Byte)\n",
            "Trainable params: 2 (8.00 Byte)\n",
            "Non-trainable params: 3 (16.00 Byte)\n",
            "_________________________________________________________________\n"
          ]
        }
      ],
      "source": [
        "G1_model = tf.keras.Sequential([\n",
        "    g1_normalizer,\n",
        "    tf.keras.layers.Dense(units=1)\n",
        "])\n",
        "\n",
        "G1_model.summary()"
      ]
    },
    {
      "cell_type": "code",
      "execution_count": 22,
      "metadata": {
        "colab": {
          "base_uri": "https://localhost:8080/"
        },
        "id": "oTPFQjDIETxa",
        "outputId": "836bef49-fad7-4f6d-d8fb-49e8255e3fca"
      },
      "outputs": [
        {
          "name": "stdout",
          "output_type": "stream",
          "text": [
            "1/1 [==============================] - 0s 76ms/step\n"
          ]
        },
        {
          "data": {
            "text/plain": [
              "array([[-0.19062582],\n",
              "       [-0.19062582],\n",
              "       [ 0.2233794 ],\n",
              "       [-0.0871245 ],\n",
              "       [-0.2941271 ],\n",
              "       [-0.39762843],\n",
              "       [ 0.2233794 ],\n",
              "       [ 0.11987811],\n",
              "       [-0.0871245 ],\n",
              "       [ 0.2233794 ]], dtype=float32)"
            ]
          },
          "execution_count": 22,
          "metadata": {},
          "output_type": "execute_result"
        }
      ],
      "source": [
        "G1_model.predict(g1[:10])"
      ]
    },
    {
      "cell_type": "code",
      "execution_count": 23,
      "metadata": {
        "id": "u1TEk5dyEhk0"
      },
      "outputs": [],
      "source": [
        "G1_model.compile(\n",
        "    optimizer = tf.keras.optimizers.Adam(learning_rate=0.1),\n",
        "    loss='mean_absolute_error')"
      ]
    },
    {
      "cell_type": "code",
      "execution_count": 24,
      "metadata": {
        "colab": {
          "base_uri": "https://localhost:8080/"
        },
        "id": "W2iotgXVEsZm",
        "outputId": "66287315-a5c5-4663-f8b4-d136115e3396"
      },
      "outputs": [
        {
          "name": "stderr",
          "output_type": "stream",
          "text": [
            "/home/rubic31/.local/lib/python3.10/site-packages/keras/src/engine/data_adapter.py:1808: FutureWarning: The behavior of `series[i:j]` with an integer-dtype index is deprecated. In a future version, this will be treated as *label-based* indexing, consistent with e.g. `series[i]` lookups. To retain the old behavior, use `series.iloc[i:j]`. To get the future behavior, use `series.loc[i:j]`.\n",
            "  return t[start:end]\n"
          ]
        },
        {
          "name": "stdout",
          "output_type": "stream",
          "text": [
            "CPU times: user 2.54 s, sys: 522 ms, total: 3.07 s\n",
            "Wall time: 3.41 s\n"
          ]
        }
      ],
      "source": [
        "%%time\n",
        "history = G1_model.fit(\n",
        "    train_features['G1'],\n",
        "    train_labels,\n",
        "    epochs=100,\n",
        "    verbose=0,\n",
        "    # Calculate validation results on 20% of the training data.\n",
        "    validation_split = 0.2)"
      ]
    },
    {
      "cell_type": "code",
      "execution_count": 25,
      "metadata": {
        "id": "4y4WIABhE4Xf"
      },
      "outputs": [],
      "source": [
        "def plot_loss(history):\n",
        "  plt.plot(history.history['loss'], label='loss')\n",
        "  plt.plot(history.history['val_loss'], label='val_loss')\n",
        "  plt.ylim([0, 10])\n",
        "  plt.xlabel('Epoch')\n",
        "  plt.ylabel('Error [G3]')\n",
        "  plt.legend()\n",
        "  plt.grid(True)"
      ]
    },
    {
      "cell_type": "code",
      "execution_count": 26,
      "metadata": {
        "colab": {
          "base_uri": "https://localhost:8080/",
          "height": 455
        },
        "id": "FkF48jzgFFqh",
        "outputId": "cda61819-f072-4df5-df0e-ceccc7731a8f"
      },
      "outputs": [
        {
          "data": {
            "image/png": "[encoded data removed]",
            "text/plain": [
              "<Figure size 640x480 with 1 Axes>"
            ]
          },
          "metadata": {},
          "output_type": "display_data"
        }
      ],
      "source": [
        "plot_loss(history)"
      ]
    },
    {
      "cell_type": "code",
      "execution_count": 27,
      "metadata": {
        "id": "oOHx_1MWFKHh"
      },
      "outputs": [],
      "source": [
        "test_results = {}\n",
        "\n",
        "test_results['G1_model'] = G1_model.evaluate(\n",
        "    test_features['G1'],\n",
        "    test_labels, verbose=0)"
      ]
    },
    {
      "cell_type": "code",
      "execution_count": 28,
      "metadata": {
        "colab": {
          "base_uri": "https://localhost:8080/"
        },
        "id": "pdzorOICFW2P",
        "outputId": "a5a1f425-4372-4b00-cea9-21e7f45163e1"
      },
      "outputs": [
        {
          "name": "stdout",
          "output_type": "stream",
          "text": [
            "7/7 [==============================] - 0s 1ms/step\n"
          ]
        }
      ],
      "source": [
        "x = tf.linspace(0.0, 20.0, 200)\n",
        "y = G1_model.predict(x)"
      ]
    },
    {
      "cell_type": "code",
      "execution_count": 29,
      "metadata": {
        "id": "X_8dg6BQFYxv"
      },
      "outputs": [],
      "source": [
        "def plot_G1(x, y):\n",
        "  plt.scatter(train_features['G1'], train_labels, label='Data')\n",
        "  plt.plot(x, y, color='k', label='Predictions')\n",
        "  plt.xlabel('G1')\n",
        "  plt.ylabel('G3')\n",
        "  plt.legend()"
      ]
    },
    {
      "cell_type": "code",
      "execution_count": 30,
      "metadata": {
        "colab": {
          "base_uri": "https://localhost:8080/",
          "height": 449
        },
        "id": "YySC2k8oFaDt",
        "outputId": "6b69be90-b2de-4e09-bc54-e20976855045"
      },
      "outputs": [
        {
          "data": {
            "image/png": "[encoded data removed]",
            "text/plain": [
              "<Figure size 640x480 with 1 Axes>"
            ]
          },
          "metadata": {},
          "output_type": "display_data"
        }
      ],
      "source": [
        "plot_G1(x, y)"
      ]
    },
    {
      "cell_type": "markdown",
      "metadata": {
        "id": "-pybLDKbWE14"
      },
      "source": [
        "Here ends Predicting using only G1\n",
        "Now let's try with G1 and G2"
      ]
    },
    {
      "cell_type": "code",
      "execution_count": 31,
      "metadata": {
        "id": "WV8Bw0ijXZx3"
      },
      "outputs": [],
      "source": [
        "g2g3_normalizer = tf.keras.layers.Normalization(axis=-1)\n",
        "g2g3_normalizer.adapt(np.array(train_features[['G1', 'G2']]))"
      ]
    },
    {
      "cell_type": "code",
      "execution_count": 32,
      "metadata": {
        "id": "19my2W7qWhZ2"
      },
      "outputs": [],
      "source": [
        "G2G3_model = tf.keras.Sequential([\n",
        "    g2g3_normalizer,\n",
        "    tf.keras.layers.Dense(units=1)\n",
        "])"
      ]
    },
    {
      "cell_type": "code",
      "execution_count": 33,
      "metadata": {
        "id": "9LAOd_VNY-tT"
      },
      "outputs": [],
      "source": [
        "G2G3_model.compile(\n",
        "    optimizer=tf.keras.optimizers.Adam(learning_rate=0.1),\n",
        "    loss='mean_absolute_error')"
      ]
    },
    {
      "cell_type": "code",
      "execution_count": 34,
      "metadata": {
        "colab": {
          "base_uri": "https://localhost:8080/"
        },
        "id": "pQpmjTv-ZDWK",
        "outputId": "0059d020-faf6-4e48-c257-c41c922e72b4"
      },
      "outputs": [
        {
          "name": "stderr",
          "output_type": "stream",
          "text": [
            "/home/rubic31/.local/lib/python3.10/site-packages/keras/src/engine/data_adapter.py:1808: FutureWarning: The behavior of `series[i:j]` with an integer-dtype index is deprecated. In a future version, this will be treated as *label-based* indexing, consistent with e.g. `series[i]` lookups. To retain the old behavior, use `series.iloc[i:j]`. To get the future behavior, use `series.loc[i:j]`.\n",
            "  return t[start:end]\n"
          ]
        },
        {
          "name": "stdout",
          "output_type": "stream",
          "text": [
            "CPU times: user 2.6 s, sys: 583 ms, total: 3.19 s\n",
            "Wall time: 4.06 s\n"
          ]
        }
      ],
      "source": [
        "%%time\n",
        "history = G2G3_model.fit(\n",
        "    train_features[['G1', 'G2']],\n",
        "    train_labels,\n",
        "    epochs=100,\n",
        "    # Suppress logging.\n",
        "    verbose=0,\n",
        "    # Calculate validation results on 20% of the training data.\n",
        "    validation_split = 0.2)"
      ]
    },
    {
      "cell_type": "code",
      "execution_count": 35,
      "metadata": {
        "colab": {
          "base_uri": "https://localhost:8080/",
          "height": 455
        },
        "id": "0qCtuf-_ZPCx",
        "outputId": "82144d11-62d0-44be-94d6-5b8574a7611d"
      },
      "outputs": [
        {
          "data": {
            "image/png": "[encoded data removed]",
            "text/plain": [
              "<Figure size 640x480 with 1 Axes>"
            ]
          },
          "metadata": {},
          "output_type": "display_data"
        }
      ],
      "source": [
        "plot_loss(history)"
      ]
    },
    {
      "cell_type": "code",
      "execution_count": 67,
      "metadata": {
        "id": "qmI2Sr0aZYeX"
      },
      "outputs": [],
      "source": [
        "test_results['G1G2_model'] = G2G3_model.evaluate(\n",
        "    test_features[['G1', 'G2']], test_labels, verbose=0)"
      ]
    },
    {
      "cell_type": "code",
      "execution_count": 37,
      "metadata": {
        "colab": {
          "base_uri": "https://localhost:8080/"
        },
        "id": "WynzlaXMmpGH",
        "outputId": "0e67e597-d813-4755-e673-83284962b9a2"
      },
      "outputs": [
        {
          "name": "stdout",
          "output_type": "stream",
          "text": [
            "7/7 [==============================] - 0s 1ms/step\n"
          ]
        }
      ],
      "source": [
        "x = tf.linspace(0.0, 20.0, 200)\n",
        "x = tf.linspace([0.0, 0.0], [20.0, 20.0], 200, axis=0)\n",
        "y = G2G3_model.predict(x)"
      ]
    },
    {
      "cell_type": "code",
      "execution_count": 38,
      "metadata": {
        "colab": {
          "base_uri": "https://localhost:8080/"
        },
        "id": "S2_AHbfBoOOx",
        "outputId": "2c72aa5c-c226-485e-d5a6-beb61604c805"
      },
      "outputs": [],
      "source": [
        "#print(x[0][:][:][0])\n",
        "#print(y)"
      ]
    },
    {
      "cell_type": "code",
      "execution_count": 39,
      "metadata": {
        "id": "ss2qLYmimpGH"
      },
      "outputs": [],
      "source": [
        "def plot_G1G2(x, y):\n",
        "  plt.scatter(train_features[['G1', 'G2']], train_labels, label='Data')\n",
        "  plt.plot(x[0][0], y, color='k', label='Predictions')\n",
        "  plt.xlabel('G1 G2')\n",
        "  plt.ylabel('G3')\n",
        "  plt.legend()"
      ]
    },
    {
      "cell_type": "code",
      "execution_count": 40,
      "metadata": {
        "id": "v0n_qx61mpGI"
      },
      "outputs": [],
      "source": [
        "#plot_G1G2(x, y)"
      ]
    },
    {
      "cell_type": "markdown",
      "metadata": {
        "id": "yPmwlvDRZpoG"
      },
      "source": [
        "Now let's try with all features"
      ]
    },
    {
      "cell_type": "code",
      "execution_count": 41,
      "metadata": {
        "id": "le_ZGDdRZ2sA"
      },
      "outputs": [],
      "source": [
        "all_normalizer = tf.keras.layers.Normalization(axis=-1)\n",
        "all_normalizer.adapt(np.array(train_features))"
      ]
    },
    {
      "cell_type": "code",
      "execution_count": 42,
      "metadata": {
        "id": "9CG_NF3AZ2sB"
      },
      "outputs": [],
      "source": [
        "all_model = tf.keras.Sequential([\n",
        "    all_normalizer,\n",
        "    tf.keras.layers.Dense(units=1)\n",
        "])"
      ]
    },
    {
      "cell_type": "code",
      "execution_count": 43,
      "metadata": {
        "id": "mZ_BX7GtZ2sB"
      },
      "outputs": [],
      "source": [
        "all_model.compile(\n",
        "    optimizer=tf.keras.optimizers.Adam(learning_rate=0.1),\n",
        "    loss='mean_absolute_error')"
      ]
    },
    {
      "cell_type": "code",
      "execution_count": 44,
      "metadata": {
        "colab": {
          "base_uri": "https://localhost:8080/"
        },
        "id": "w5VT6kx8Z2sB",
        "outputId": "fe4fe97f-a6e0-493e-ecec-1023aa734c7e"
      },
      "outputs": [
        {
          "name": "stderr",
          "output_type": "stream",
          "text": [
            "/home/rubic31/.local/lib/python3.10/site-packages/keras/src/engine/data_adapter.py:1808: FutureWarning: The behavior of `series[i:j]` with an integer-dtype index is deprecated. In a future version, this will be treated as *label-based* indexing, consistent with e.g. `series[i]` lookups. To retain the old behavior, use `series.iloc[i:j]`. To get the future behavior, use `series.loc[i:j]`.\n",
            "  return t[start:end]\n"
          ]
        },
        {
          "name": "stdout",
          "output_type": "stream",
          "text": [
            "CPU times: user 2.56 s, sys: 505 ms, total: 3.06 s\n",
            "Wall time: 3.91 s\n"
          ]
        }
      ],
      "source": [
        "%%time\n",
        "history = all_model.fit(\n",
        "    train_features,\n",
        "    train_labels,\n",
        "    epochs=100,\n",
        "    # Suppress logging.\n",
        "    verbose=0,\n",
        "    # Calculate validation results on 20% of the training data.\n",
        "    validation_split = 0.2)"
      ]
    },
    {
      "cell_type": "code",
      "execution_count": 45,
      "metadata": {
        "colab": {
          "base_uri": "https://localhost:8080/",
          "height": 455
        },
        "id": "GBqSKGXjZ2sB",
        "outputId": "d0e67d00-b76a-48e9-d751-4eb95b5fe985"
      },
      "outputs": [
        {
          "data": {
            "image/png": "[encoded data removed]",
            "text/plain": [
              "<Figure size 640x480 with 1 Axes>"
            ]
          },
          "metadata": {},
          "output_type": "display_data"
        }
      ],
      "source": [
        "plot_loss(history)"
      ]
    },
    {
      "cell_type": "code",
      "execution_count": 46,
      "metadata": {
        "id": "8pZoMTFEZ2sB"
      },
      "outputs": [],
      "source": [
        "test_results['all_model'] = all_model.evaluate(\n",
        "    test_features, test_labels, verbose=0)"
      ]
    },
    {
      "cell_type": "markdown",
      "metadata": {
        "id": "eMw3JnEOabCP"
      },
      "source": [
        "Now let's try without G1 and G2, look for other correlations"
      ]
    },
    {
      "cell_type": "code",
      "execution_count": 47,
      "metadata": {
        "id": "0K0uFnQiagqw"
      },
      "outputs": [],
      "source": [
        "import seaborn as sb\n",
        "import matplotlib.pyplot as plt"
      ]
    },
    {
      "cell_type": "code",
      "execution_count": 48,
      "metadata": {
        "colab": {
          "base_uri": "https://localhost:8080/",
          "height": 1000
        },
        "id": "V08vzwv-kP9m",
        "outputId": "89b6b918-8d4a-4b09-d668-b890b1e94bb6"
      },
      "outputs": [
        {
          "data": {
            "image/png": "[encoded data removed]",
            "text/plain": [
              "<Figure size 1200x1200 with 8 Axes>"
            ]
          },
          "metadata": {},
          "output_type": "display_data"
        }
      ],
      "source": [
        "fig, ax = plt.subplots(nrows=2, ncols=2, figsize=(12, 12))\n",
        "\n",
        "# Extract G3 from train_df\n",
        "g3 = train_df['G3']\n",
        "\n",
        "# Divide the heatmap into subplots and compare to G3\n",
        "sb.heatmap(train_df.iloc[:, :18].corrwith(g3).abs().to_frame(), cmap=\"YlGnBu\", annot=True, ax=ax[0, 0], vmin=0, vmax=0.5)\n",
        "ax[0, 0].set_title(\"Features 1-18 vs G3\")\n",
        "\n",
        "sb.heatmap(train_df.iloc[:, 18:36].corrwith(g3).abs().to_frame(), cmap=\"YlGnBu\", annot=True, ax=ax[0, 1], vmin=0, vmax=0.5)\n",
        "ax[0, 1].set_title(\"Features 19-36 vs G3\")\n",
        "\n",
        "sb.heatmap(train_df.iloc[:, 36:54].corrwith(g3).abs().to_frame(), cmap=\"YlGnBu\", annot=True, ax=ax[1, 0], vmin=0, vmax=0.5)\n",
        "ax[1, 0].set_title(\"Features 37-54 vs G3\")\n",
        "\n",
        "sb.heatmap(train_df.iloc[:, 54:].corrwith(g3).abs().to_frame(), cmap=\"YlGnBu\", annot=True, ax=ax[1, 1], vmin=0, vmax=0.5)\n",
        "ax[1, 1].set_title(\"Features 55-70 vs G3\")\n",
        "\n",
        "# Adjust the spacing between subplots\n",
        "plt.tight_layout()\n",
        "\n",
        "# Show the subplots\n",
        "plt.show()"
      ]
    },
    {
      "cell_type": "markdown",
      "metadata": {
        "id": "ozE7dfPrjcP9"
      },
      "source": [
        "*   alright predictors: age, romantic, higher, gout\n",
        "*   good predictors: failures, Medu"
      ]
    },
    {
      "cell_type": "code",
      "execution_count": 49,
      "metadata": {
        "colab": {
          "base_uri": "https://localhost:8080/",
          "height": 300
        },
        "id": "ROgk-LHWgLz7",
        "outputId": "25b99bec-9608-4be0-b152-185cc681a0aa"
      },
      "outputs": [
        {
          "data": {
            "text/html": [
              "<div>\n",
              "<style scoped>\n",
              "    .dataframe tbody tr th:only-of-type {\n",
              "        vertical-align: middle;\n",
              "    }\n",
              "\n",
              "    .dataframe tbody tr th {\n",
              "        vertical-align: top;\n",
              "    }\n",
              "\n",
              "    .dataframe thead th {\n",
              "        text-align: right;\n",
              "    }\n",
              "</style>\n",
              "<table border=\"1\" class=\"dataframe\">\n",
              "  <thead>\n",
              "    <tr style=\"text-align: right;\">\n",
              "      <th></th>\n",
              "      <th>Fedu_0</th>\n",
              "      <th>Fedu_1</th>\n",
              "      <th>Fedu_2</th>\n",
              "      <th>Fedu_3</th>\n",
              "    </tr>\n",
              "  </thead>\n",
              "  <tbody>\n",
              "    <tr>\n",
              "      <th>count</th>\n",
              "      <td>316.0</td>\n",
              "      <td>316.0</td>\n",
              "      <td>316.0</td>\n",
              "      <td>316.0</td>\n",
              "    </tr>\n",
              "    <tr>\n",
              "      <th>mean</th>\n",
              "      <td>0.0</td>\n",
              "      <td>0.2</td>\n",
              "      <td>0.3</td>\n",
              "      <td>0.3</td>\n",
              "    </tr>\n",
              "    <tr>\n",
              "      <th>std</th>\n",
              "      <td>0.0</td>\n",
              "      <td>0.4</td>\n",
              "      <td>0.5</td>\n",
              "      <td>0.4</td>\n",
              "    </tr>\n",
              "    <tr>\n",
              "      <th>min</th>\n",
              "      <td>0.0</td>\n",
              "      <td>0.0</td>\n",
              "      <td>0.0</td>\n",
              "      <td>0.0</td>\n",
              "    </tr>\n",
              "    <tr>\n",
              "      <th>25%</th>\n",
              "      <td>0.0</td>\n",
              "      <td>0.0</td>\n",
              "      <td>0.0</td>\n",
              "      <td>0.0</td>\n",
              "    </tr>\n",
              "    <tr>\n",
              "      <th>50%</th>\n",
              "      <td>0.0</td>\n",
              "      <td>0.0</td>\n",
              "      <td>0.0</td>\n",
              "      <td>0.0</td>\n",
              "    </tr>\n",
              "    <tr>\n",
              "      <th>75%</th>\n",
              "      <td>0.0</td>\n",
              "      <td>0.0</td>\n",
              "      <td>1.0</td>\n",
              "      <td>1.0</td>\n",
              "    </tr>\n",
              "    <tr>\n",
              "      <th>max</th>\n",
              "      <td>0.0</td>\n",
              "      <td>1.0</td>\n",
              "      <td>1.0</td>\n",
              "      <td>1.0</td>\n",
              "    </tr>\n",
              "  </tbody>\n",
              "</table>\n",
              "</div>"
            ],
            "text/plain": [
              "       Fedu_0  Fedu_1  Fedu_2  Fedu_3\n",
              "count   316.0   316.0   316.0   316.0\n",
              "mean      0.0     0.2     0.3     0.3\n",
              "std       0.0     0.4     0.5     0.4\n",
              "min       0.0     0.0     0.0     0.0\n",
              "25%       0.0     0.0     0.0     0.0\n",
              "50%       0.0     0.0     0.0     0.0\n",
              "75%       0.0     0.0     1.0     1.0\n",
              "max       0.0     1.0     1.0     1.0"
            ]
          },
          "execution_count": 49,
          "metadata": {},
          "output_type": "execute_result"
        }
      ],
      "source": [
        "train_df[['Fedu_0', 'Fedu_1', 'Fedu_2', 'Fedu_3']].describe()"
      ]
    },
    {
      "cell_type": "code",
      "execution_count": 50,
      "metadata": {
        "colab": {
          "base_uri": "https://localhost:8080/"
        },
        "id": "qt16SYiQhmTJ",
        "outputId": "4480bd92-10d8-40ff-a130-26f0f0e26bf3"
      },
      "outputs": [
        {
          "data": {
            "text/plain": [
              "2    115\n",
              "3    100\n",
              "4     96\n",
              "1     82\n",
              "0      2\n",
              "Name: Fedu, dtype: int64"
            ]
          },
          "execution_count": 50,
          "metadata": {},
          "output_type": "execute_result"
        }
      ],
      "source": [
        "df['Fedu'].value_counts()"
      ]
    },
    {
      "cell_type": "markdown",
      "metadata": {
        "id": "c19G2NvKmbWt"
      },
      "source": [
        "Let's try predicting on failures, Medu, age, romantic, higher and gout"
      ]
    },
    {
      "cell_type": "code",
      "execution_count": 53,
      "metadata": {},
      "outputs": [],
      "source": [
        "sixFeatures_normalizer = tf.keras.layers.Normalization(axis=-1)\n",
        "sixFeatures_normalizer.adapt(np.array(train_features[['failures', 'age', 'romantic_yes', 'higher_yes', 'goout_1', 'goout_2', 'goout_3', 'goout_4', 'Medu_0', 'Medu_1', 'Medu_2', 'Medu_3']]))"
      ]
    },
    {
      "cell_type": "code",
      "execution_count": 54,
      "metadata": {},
      "outputs": [],
      "source": [
        "sixFeatures_model = tf.keras.Sequential([\n",
        "    sixFeatures_normalizer,\n",
        "    tf.keras.layers.Dense(units=1)\n",
        "])"
      ]
    },
    {
      "cell_type": "code",
      "execution_count": 55,
      "metadata": {},
      "outputs": [],
      "source": [
        "sixFeatures_model.compile(\n",
        "    optimizer=tf.keras.optimizers.Adam(learning_rate=0.1),\n",
        "    loss='mean_absolute_error')"
      ]
    },
    {
      "cell_type": "code",
      "execution_count": 56,
      "metadata": {},
      "outputs": [
        {
          "name": "stderr",
          "output_type": "stream",
          "text": [
            "/home/rubic31/.local/lib/python3.10/site-packages/keras/src/engine/data_adapter.py:1808: FutureWarning: The behavior of `series[i:j]` with an integer-dtype index is deprecated. In a future version, this will be treated as *label-based* indexing, consistent with e.g. `series[i]` lookups. To retain the old behavior, use `series.iloc[i:j]`. To get the future behavior, use `series.loc[i:j]`.\n",
            "  return t[start:end]\n"
          ]
        },
        {
          "name": "stdout",
          "output_type": "stream",
          "text": [
            "CPU times: user 2.78 s, sys: 502 ms, total: 3.28 s\n",
            "Wall time: 4.63 s\n"
          ]
        }
      ],
      "source": [
        "%%time\n",
        "history = sixFeatures_model.fit(\n",
        "    train_features[['failures', 'age', 'romantic_yes', 'higher_yes', 'goout_1', 'goout_2', 'goout_3', 'goout_4', 'Medu_0', 'Medu_1', 'Medu_2', 'Medu_3']],\n",
        "    train_labels,\n",
        "    epochs=100,\n",
        "    # Suppress logging.\n",
        "    verbose=0,\n",
        "    # Calculate validation results on 20% of the training data.\n",
        "    validation_split = 0.2)"
      ]
    },
    {
      "cell_type": "code",
      "execution_count": 57,
      "metadata": {},
      "outputs": [
        {
          "data": {
            "image/png": "[encoded data removed]",
            "text/plain": [
              "<Figure size 640x480 with 1 Axes>"
            ]
          },
          "metadata": {},
          "output_type": "display_data"
        }
      ],
      "source": [
        "plot_loss(history)"
      ]
    },
    {
      "cell_type": "code",
      "execution_count": 58,
      "metadata": {},
      "outputs": [],
      "source": [
        "test_results['sixFeatures_model'] = sixFeatures_model.evaluate(\n",
        "    test_features[['failures', 'age', 'romantic_yes', 'higher_yes', 'goout_1', 'goout_2', 'goout_3', 'goout_4', 'Medu_0', 'Medu_1', 'Medu_2', 'Medu_3']], test_labels, verbose=0)"
      ]
    },
    {
      "cell_type": "markdown",
      "metadata": {},
      "source": [
        "Let's limit number of features a little, provide only those that have higher correlation than 0,14"
      ]
    },
    {
      "cell_type": "code",
      "execution_count": 60,
      "metadata": {},
      "outputs": [],
      "source": [
        "lessFeatures_normalizer = tf.keras.layers.Normalization(axis=-1)\n",
        "lessFeatures_normalizer.adapt(np.array(train_features[['failures', 'age', 'romantic_yes', 'higher_yes', 'goout_4', 'Medu_1']]))"
      ]
    },
    {
      "cell_type": "code",
      "execution_count": 61,
      "metadata": {},
      "outputs": [],
      "source": [
        "lessFeatures_model = tf.keras.Sequential([\n",
        "    lessFeatures_normalizer,\n",
        "    tf.keras.layers.Dense(units=1)\n",
        "])"
      ]
    },
    {
      "cell_type": "code",
      "execution_count": 62,
      "metadata": {},
      "outputs": [],
      "source": [
        "lessFeatures_model.compile(\n",
        "    optimizer=tf.keras.optimizers.Adam(learning_rate=0.1),\n",
        "    loss='mean_absolute_error')"
      ]
    },
    {
      "cell_type": "code",
      "execution_count": 63,
      "metadata": {},
      "outputs": [
        {
          "name": "stderr",
          "output_type": "stream",
          "text": [
            "/home/rubic31/.local/lib/python3.10/site-packages/keras/src/engine/data_adapter.py:1808: FutureWarning: The behavior of `series[i:j]` with an integer-dtype index is deprecated. In a future version, this will be treated as *label-based* indexing, consistent with e.g. `series[i]` lookups. To retain the old behavior, use `series.iloc[i:j]`. To get the future behavior, use `series.loc[i:j]`.\n",
            "  return t[start:end]\n"
          ]
        },
        {
          "name": "stdout",
          "output_type": "stream",
          "text": [
            "CPU times: user 2.7 s, sys: 407 ms, total: 3.1 s\n",
            "Wall time: 4.21 s\n"
          ]
        }
      ],
      "source": [
        "%%time\n",
        "history = lessFeatures_model.fit(\n",
        "    train_features[['failures', 'age', 'romantic_yes', 'higher_yes', 'goout_4', 'Medu_1']],\n",
        "    train_labels,\n",
        "    epochs=100,\n",
        "    # Suppress logging.\n",
        "    verbose=0,\n",
        "    # Calculate validation results on 20% of the training data.\n",
        "    validation_split = 0.2)"
      ]
    },
    {
      "cell_type": "code",
      "execution_count": 64,
      "metadata": {},
      "outputs": [
        {
          "data": {
            "image/png": "[encoded data removed]",
            "text/plain": [
              "<Figure size 640x480 with 1 Axes>"
            ]
          },
          "metadata": {},
          "output_type": "display_data"
        }
      ],
      "source": [
        "plot_loss(history)"
      ]
    },
    {
      "cell_type": "code",
      "execution_count": 65,
      "metadata": {},
      "outputs": [],
      "source": [
        "test_results['lessFeatures_model'] = lessFeatures_model.evaluate(\n",
        "    test_features[['failures', 'age', 'romantic_yes', 'higher_yes', 'goout_4', 'Medu_1']], test_labels, verbose=0)"
      ]
    },
    {
      "cell_type": "markdown",
      "metadata": {},
      "source": [
        "Results:"
      ]
    },
    {
      "cell_type": "code",
      "execution_count": 68,
      "metadata": {
        "colab": {
          "base_uri": "https://localhost:8080/",
          "height": 143
        },
        "id": "Rg6k9H8Ao_M8",
        "outputId": "1e3cdf38-2b4f-483a-da74-4622faaf4e66"
      },
      "outputs": [
        {
          "data": {
            "text/html": [
              "<div>\n",
              "<style scoped>\n",
              "    .dataframe tbody tr th:only-of-type {\n",
              "        vertical-align: middle;\n",
              "    }\n",
              "\n",
              "    .dataframe tbody tr th {\n",
              "        vertical-align: top;\n",
              "    }\n",
              "\n",
              "    .dataframe thead th {\n",
              "        text-align: right;\n",
              "    }\n",
              "</style>\n",
              "<table border=\"1\" class=\"dataframe\">\n",
              "  <thead>\n",
              "    <tr style=\"text-align: right;\">\n",
              "      <th></th>\n",
              "      <th>Mean absolute error [G3]</th>\n",
              "    </tr>\n",
              "  </thead>\n",
              "  <tbody>\n",
              "    <tr>\n",
              "      <th>G1_model</th>\n",
              "      <td>2.0</td>\n",
              "    </tr>\n",
              "    <tr>\n",
              "      <th>G2G3_model</th>\n",
              "      <td>0.9</td>\n",
              "    </tr>\n",
              "    <tr>\n",
              "      <th>all_model</th>\n",
              "      <td>52261.5</td>\n",
              "    </tr>\n",
              "    <tr>\n",
              "      <th>sixFeatures_model</th>\n",
              "      <td>3.8</td>\n",
              "    </tr>\n",
              "    <tr>\n",
              "      <th>lessFeatures_model</th>\n",
              "      <td>3.8</td>\n",
              "    </tr>\n",
              "    <tr>\n",
              "      <th>G1G2_model</th>\n",
              "      <td>0.9</td>\n",
              "    </tr>\n",
              "  </tbody>\n",
              "</table>\n",
              "</div>"
            ],
            "text/plain": [
              "                    Mean absolute error [G3]\n",
              "G1_model                                 2.0\n",
              "G2G3_model                               0.9\n",
              "all_model                            52261.5\n",
              "sixFeatures_model                        3.8\n",
              "lessFeatures_model                       3.8\n",
              "G1G2_model                               0.9"
            ]
          },
          "execution_count": 68,
          "metadata": {},
          "output_type": "execute_result"
        }
      ],
      "source": [
        "pd.DataFrame(test_results, index=['Mean absolute error [G3]']).T"
      ]
    },
    {
      "cell_type": "markdown",
      "metadata": {},
      "source": [
        "Putting all features at once only creates noise. Terrible idea. G1G2 model seems the best, obviously. G1 model is also pretty good. Interesting part is that predicting on failures, age, romantic interest, higher, goout and medu seems to also provide reasonable results."
      ]
    }
  ],
  "metadata": {
    "colab": {
      "authorship_tag": "ABX9TyPDFezHUzNKZIslqHd+yi72",
      "include_colab_link": true,
      "mount_file_id": "1BeBx6aC_6d0Xu3oZHd3x7d9tq-dxc2uX",
      "provenance": []
    },
    "kernelspec": {
      "display_name": "Python 3",
      "name": "python3"
    },
    "language_info": {
      "codemirror_mode": {
        "name": "ipython",
        "version": 3
      },
      "file_extension": ".py",
      "mimetype": "text/x-python",
      "name": "python",
      "nbconvert_exporter": "python",
      "pygments_lexer": "ipython3",
      "version": "3.10.12"
    }
  },
  "nbformat": 4,
  "nbformat_minor": 0
}
